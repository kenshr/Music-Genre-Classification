{
 "cells": [
  {
   "cell_type": "code",
   "execution_count": 15,
   "id": "48f4e60f",
   "metadata": {},
   "outputs": [],
   "source": [
    "# imports\n",
    "import os\n",
    "import numpy as np\n",
    "import librosa\n",
    "import librosa.display\n",
    "import pandas as pd\n",
    "import matplotlib.pyplot as plt\n",
    "%matplotlib inline\n",
    "\n",
    "from tqdm import tqdm\n",
    "\n",
    "import warnings\n",
    "warnings.filterwarnings('ignore')"
   ]
  },
  {
   "cell_type": "markdown",
   "id": "d317fe3f",
   "metadata": {},
   "source": [
    "# Unzip file"
   ]
  },
  {
   "cell_type": "code",
   "execution_count": null,
   "id": "6b03c9a3",
   "metadata": {},
   "outputs": [],
   "source": [
    "# importing required modules\n",
    "from zipfile import ZipFile\n",
    "  \n",
    "# specifying the zip file name\n",
    "file_name = \"../data/fma_small.zip\"\n",
    "  \n",
    "# opening the zip file in READ mode\n",
    "with ZipFile(file_name, 'r') as zip:\n",
    "    # printing all the contents of the zip file\n",
    "    zip.printdir()\n",
    "  \n",
    "    # extracting all the files\n",
    "    print('Extracting all the files now...')\n",
    "    zip.extractall()\n",
    "    print('Done!')"
   ]
  },
  {
   "cell_type": "markdown",
   "id": "63bbeee6",
   "metadata": {},
   "source": [
    "# Data transformation"
   ]
  },
  {
   "cell_type": "code",
   "execution_count": 2,
   "id": "dd622522",
   "metadata": {},
   "outputs": [],
   "source": [
    "AUDIO_DIR = 'Music-Genre-Classification/data/sample'"
   ]
  },
  {
   "cell_type": "code",
   "execution_count": 16,
   "id": "b1248c0f",
   "metadata": {},
   "outputs": [],
   "source": [
    "def get_tids_from_directory(audio_dir):\n",
    "    \"\"\"Get track IDs from the mp3s in a directory.\n",
    "    Parameters\n",
    "    ----------\n",
    "    audio_dir : str\n",
    "        Path to the directory where the audio files are stored.\n",
    "    Returns\n",
    "    -------\n",
    "        A list of track IDs.\n",
    "    \"\"\"\n",
    "    tids = []\n",
    "    for _, dirnames, files in os.walk(audio_dir):\n",
    "        if dirnames == []:\n",
    "            tids.extend(int(file[:-4]) for file in files)\n",
    "    return tids\n",
    "\n",
    "def get_audio_path(audio_dir, track_id):\n",
    "    \"\"\"\n",
    "    Return the path to the mp3 given the directory where the audio is stored\n",
    "    and the track ID.\n",
    "    Examples\n",
    "    --------\n",
    "    >>> import utils\n",
    "    >>> AUDIO_DIR = os.environ.get('AUDIO_DIR')\n",
    "    >>> utils.get_audio_path(AUDIO_DIR, 2)\n",
    "    '../data/fma_small/000/000002.mp3'\n",
    "    \"\"\"\n",
    "    tid_str = '{:06d}'.format(track_id)\n",
    "    return os.path.join(audio_dir, tid_str[:3], tid_str + '.mp3')\n",
    "\n",
    "def create_spectogram(track_id):\n",
    "    filename = get_audio_path(AUDIO_DIR, track_id)\n",
    "    y, sr = librosa.load(filename)\n",
    "    spect = librosa.feature.melspectrogram(y=y, sr=sr,n_fft=2048, hop_length=1024)\n",
    "    spect = librosa.power_to_db(spect, ref=np.max)\n",
    "    return spect.T\n",
    "\n",
    "def plot_spect(track_id):\n",
    "    spect = create_spectogram(track_id)\n",
    "    print(spect.shape)\n",
    "    plt.figure(figsize=(10, 4))\n",
    "    librosa.display.specshow(spect.T, y_axis='mel', fmax=8000, x_axis='time')\n",
    "    plt.colorbar(format='%+2.0f dB')\n",
    "    plt.show()\n",
    "    \n",
    "\n",
    "dict_genres = {'Electronic':0, 'Experimental':1, 'Folk':2, 'Hip-Hop':3, \n",
    "               'Instrumental':4,'International':5, 'Pop' :6, 'Rock': 7}\n",
    "\n",
    "def create_array(df):\n",
    "    genres = []\n",
    "    X_spect = np.empty((0, 640, 128))\n",
    "    count = 0\n",
    "    #Code skips records in case of errors\n",
    "    for index, row in df.iterrows():\n",
    "        try:\n",
    "            count += 1\n",
    "            track_id = int(row['track_id'])\n",
    "            genre = str(row[('track', 'genre_top')])\n",
    "            spect = create_spectogram(track_id)\n",
    "\n",
    "            # Normalize for small shape differences\n",
    "            spect = spect[:640, :]\n",
    "            X_spect = np.append(X_spect, [spect], axis=0)\n",
    "            genres.append(dict_genres[genre])\n",
    "            if count % 100 == 0:\n",
    "                print(\"Currently processing: \", count)\n",
    "        except:\n",
    "            print(\"Couldn't process: \", count)\n",
    "            continue\n",
    "    y_arr = np.array(genres)\n",
    "    return X_spect, y_arr"
   ]
  },
  {
   "cell_type": "code",
   "execution_count": 13,
   "id": "720a9c27",
   "metadata": {},
   "outputs": [
    {
     "data": {
      "text/html": [
       "<div>\n",
       "<style scoped>\n",
       "    .dataframe tbody tr th:only-of-type {\n",
       "        vertical-align: middle;\n",
       "    }\n",
       "\n",
       "    .dataframe tbody tr th {\n",
       "        vertical-align: top;\n",
       "    }\n",
       "\n",
       "    .dataframe thead tr th {\n",
       "        text-align: left;\n",
       "    }\n",
       "\n",
       "    .dataframe thead tr:last-of-type th {\n",
       "        text-align: right;\n",
       "    }\n",
       "</style>\n",
       "<table border=\"1\" class=\"dataframe\">\n",
       "  <thead>\n",
       "    <tr>\n",
       "      <th></th>\n",
       "      <th colspan=\"2\" halign=\"left\">set</th>\n",
       "      <th>track</th>\n",
       "      <th>track_id</th>\n",
       "    </tr>\n",
       "    <tr>\n",
       "      <th></th>\n",
       "      <th>split</th>\n",
       "      <th>subset</th>\n",
       "      <th>genre_top</th>\n",
       "      <th></th>\n",
       "    </tr>\n",
       "    <tr>\n",
       "      <th>track_id</th>\n",
       "      <th></th>\n",
       "      <th></th>\n",
       "      <th></th>\n",
       "      <th></th>\n",
       "    </tr>\n",
       "  </thead>\n",
       "  <tbody>\n",
       "    <tr>\n",
       "      <th>2</th>\n",
       "      <td>training</td>\n",
       "      <td>small</td>\n",
       "      <td>Hip-Hop</td>\n",
       "      <td>2</td>\n",
       "    </tr>\n",
       "    <tr>\n",
       "      <th>5</th>\n",
       "      <td>training</td>\n",
       "      <td>small</td>\n",
       "      <td>Hip-Hop</td>\n",
       "      <td>5</td>\n",
       "    </tr>\n",
       "    <tr>\n",
       "      <th>10</th>\n",
       "      <td>training</td>\n",
       "      <td>small</td>\n",
       "      <td>Pop</td>\n",
       "      <td>10</td>\n",
       "    </tr>\n",
       "    <tr>\n",
       "      <th>140</th>\n",
       "      <td>training</td>\n",
       "      <td>small</td>\n",
       "      <td>Folk</td>\n",
       "      <td>140</td>\n",
       "    </tr>\n",
       "    <tr>\n",
       "      <th>141</th>\n",
       "      <td>training</td>\n",
       "      <td>small</td>\n",
       "      <td>Folk</td>\n",
       "      <td>141</td>\n",
       "    </tr>\n",
       "  </tbody>\n",
       "</table>\n",
       "</div>"
      ],
      "text/plain": [
       "               set            track track_id\n",
       "             split subset genre_top         \n",
       "track_id                                    \n",
       "2         training  small   Hip-Hop        2\n",
       "5         training  small   Hip-Hop        5\n",
       "10        training  small       Pop       10\n",
       "140       training  small      Folk      140\n",
       "141       training  small      Folk      141"
      ]
     },
     "execution_count": 13,
     "metadata": {},
     "output_type": "execute_result"
    }
   ],
   "source": [
    "filepath = '../data/fma_metadata/tracks.csv'\n",
    "tracks = pd.read_csv(filepath, index_col=0, header=[0, 1])\n",
    "keep_cols = [('set', 'split'),\n",
    "('set', 'subset'),('track', 'genre_top')]\n",
    "\n",
    "df_all = tracks[keep_cols]\n",
    "df_all = df_all[df_all[('set', 'subset')] == 'small']\n",
    "\n",
    "df_all['track_id'] = df_all.index\n",
    "df_all.head()"
   ]
  },
  {
   "cell_type": "code",
   "execution_count": 14,
   "id": "ec7e753d",
   "metadata": {},
   "outputs": [
    {
     "name": "stdout",
     "output_type": "stream",
     "text": [
      "(6400, 4) (800, 4) (800, 4)\n"
     ]
    }
   ],
   "source": [
    "df_train = df_all[df_all[('set', 'split')]=='training']\n",
    "df_valid = df_all[df_all[('set', 'split')]=='validation']\n",
    "df_test = df_all[df_all[('set', 'split')]=='test']\n",
    "\n",
    "print(df_train.shape, df_valid.shape, df_test.shape)"
   ]
  },
  {
   "cell_type": "code",
   "execution_count": 17,
   "id": "4dc0864a",
   "metadata": {},
   "outputs": [
    {
     "name": "stderr",
     "output_type": "stream",
     "text": [
      "20it [00:23,  2.17it/s]"
     ]
    },
    {
     "name": "stdout",
     "output_type": "stream",
     "text": [
      "Couldn't process:  16\n",
      "Couldn't process:  17\n",
      "Couldn't process:  18\n",
      "Couldn't process:  19\n",
      "Couldn't process:  20\n"
     ]
    },
    {
     "name": "stderr",
     "output_type": "stream",
     "text": [
      "25it [00:23,  4.76it/s]"
     ]
    },
    {
     "name": "stdout",
     "output_type": "stream",
     "text": [
      "Couldn't process:  21\n",
      "Couldn't process:  22\n",
      "Couldn't process:  23\n",
      "Couldn't process:  24\n",
      "Couldn't process:  25\n"
     ]
    },
    {
     "name": "stderr",
     "output_type": "stream",
     "text": [
      "30it [00:23,  8.05it/s]"
     ]
    },
    {
     "name": "stdout",
     "output_type": "stream",
     "text": [
      "Couldn't process:  26\n",
      "Couldn't process:  27\n",
      "Couldn't process:  28\n",
      "Couldn't process:  29\n",
      "Couldn't process:  30\n"
     ]
    },
    {
     "name": "stderr",
     "output_type": "stream",
     "text": [
      "35it [00:24, 11.95it/s]"
     ]
    },
    {
     "name": "stdout",
     "output_type": "stream",
     "text": [
      "Couldn't process:  31\n",
      "Couldn't process:  32\n",
      "Couldn't process:  33\n",
      "Couldn't process:  34\n",
      "Couldn't process:  35\n"
     ]
    },
    {
     "name": "stderr",
     "output_type": "stream",
     "text": [
      "\r",
      "38it [00:24, 13.95it/s]"
     ]
    },
    {
     "name": "stdout",
     "output_type": "stream",
     "text": [
      "Couldn't process:  36\n",
      "Couldn't process:  37\n",
      "Couldn't process:  38\n",
      "Couldn't process:  39\n",
      "Couldn't process:  40\n"
     ]
    },
    {
     "name": "stderr",
     "output_type": "stream",
     "text": [
      "44it [00:24, 17.10it/s]"
     ]
    },
    {
     "name": "stdout",
     "output_type": "stream",
     "text": [
      "Couldn't process:  41\n",
      "Couldn't process:  42\n",
      "Couldn't process:  43\n",
      "Couldn't process:  44\n",
      "Couldn't process:  45\n"
     ]
    },
    {
     "name": "stderr",
     "output_type": "stream",
     "text": [
      "\r",
      "47it [00:24, 18.04it/s]"
     ]
    },
    {
     "name": "stdout",
     "output_type": "stream",
     "text": [
      "Couldn't process:  46\n",
      "Couldn't process:  47\n",
      "Couldn't process:  48\n",
      "Couldn't process:  49\n",
      "Couldn't process:  "
     ]
    },
    {
     "name": "stderr",
     "output_type": "stream",
     "text": [
      "52it [00:24, 18.60it/s]"
     ]
    },
    {
     "name": "stdout",
     "output_type": "stream",
     "text": [
      "50\n",
      "Couldn't process:  51\n",
      "Couldn't process:  52\n",
      "Couldn't process:  53\n",
      "Couldn't process:  54\n"
     ]
    },
    {
     "name": "stderr",
     "output_type": "stream",
     "text": [
      "58it [00:25, 19.72it/s]"
     ]
    },
    {
     "name": "stdout",
     "output_type": "stream",
     "text": [
      "Couldn't process:  55\n",
      "Couldn't process:  56\n",
      "Couldn't process:  57\n",
      "Couldn't process:  58\n",
      "Couldn't process:  59\n"
     ]
    },
    {
     "name": "stderr",
     "output_type": "stream",
     "text": [
      "64it [00:25, 19.68it/s]"
     ]
    },
    {
     "name": "stdout",
     "output_type": "stream",
     "text": [
      "Couldn't process:  60\n",
      "Couldn't process:  61\n",
      "Couldn't process:  62\n",
      "Couldn't process:  63\n",
      "Couldn't process:  64\n"
     ]
    },
    {
     "name": "stderr",
     "output_type": "stream",
     "text": [
      "69it [00:25, 20.20it/s]"
     ]
    },
    {
     "name": "stdout",
     "output_type": "stream",
     "text": [
      "Couldn't process:  65\n",
      "Couldn't process:  66\n",
      "Couldn't process:  67\n",
      "Couldn't process:  68\n",
      "Couldn't process:  69\n"
     ]
    },
    {
     "name": "stderr",
     "output_type": "stream",
     "text": [
      "\r",
      "72it [00:25, 20.46it/s]"
     ]
    },
    {
     "name": "stdout",
     "output_type": "stream",
     "text": [
      "Couldn't process:  70\n",
      "Couldn't process:  71\n",
      "Couldn't process:  72\n",
      "Couldn't process:  73\n",
      "Couldn't process:  74\n"
     ]
    },
    {
     "name": "stderr",
     "output_type": "stream",
     "text": [
      "78it [00:26, 20.64it/s]"
     ]
    },
    {
     "name": "stdout",
     "output_type": "stream",
     "text": [
      "Couldn't process:  75\n",
      "Couldn't process:  76\n",
      "Couldn't process:  77\n",
      "Couldn't process:  78\n",
      "Couldn't process:  79\n"
     ]
    },
    {
     "name": "stderr",
     "output_type": "stream",
     "text": [
      "84it [00:26, 20.75it/s]"
     ]
    },
    {
     "name": "stdout",
     "output_type": "stream",
     "text": [
      "Couldn't process:  80\n",
      "Couldn't process:  81\n",
      "Couldn't process:  82\n",
      "Couldn't process:  83\n",
      "Couldn't process:  84\n"
     ]
    },
    {
     "name": "stderr",
     "output_type": "stream",
     "text": [
      "\r",
      "87it [00:26, 20.82it/s]"
     ]
    },
    {
     "name": "stdout",
     "output_type": "stream",
     "text": [
      "Couldn't process:  85\n",
      "Couldn't process:  86\n",
      "Couldn't process:  87\n",
      "Couldn't process:  88\n",
      "Couldn't process:  89\n"
     ]
    },
    {
     "name": "stderr",
     "output_type": "stream",
     "text": [
      "93it [00:26, 19.93it/s]"
     ]
    },
    {
     "name": "stdout",
     "output_type": "stream",
     "text": [
      "Couldn't process:  90\n",
      "Couldn't process:  91\n",
      "Couldn't process:  92\n",
      "Couldn't process:  93\n"
     ]
    },
    {
     "name": "stderr",
     "output_type": "stream",
     "text": [
      "98it [00:27, 20.06it/s]"
     ]
    },
    {
     "name": "stdout",
     "output_type": "stream",
     "text": [
      "Couldn't process:  94\n",
      "Couldn't process:  95\n",
      "Couldn't process:  96\n",
      "Couldn't process:  97\n",
      "Couldn't process:  98\n"
     ]
    },
    {
     "name": "stderr",
     "output_type": "stream",
     "text": [
      "\r",
      "101it [00:27, 19.80it/s]"
     ]
    },
    {
     "name": "stdout",
     "output_type": "stream",
     "text": [
      "Couldn't process:  99\n",
      "Couldn't process:  100\n",
      "Couldn't process:  101\n",
      "Couldn't process:  102\n",
      "Couldn't process:  103\n"
     ]
    },
    {
     "name": "stderr",
     "output_type": "stream",
     "text": [
      "107it [00:27, 20.27it/s]"
     ]
    },
    {
     "name": "stdout",
     "output_type": "stream",
     "text": [
      "Couldn't process:  104\n",
      "Couldn't process:  105\n",
      "Couldn't process:  106\n",
      "Couldn't process:  107\n",
      "Couldn't process:  108\n"
     ]
    },
    {
     "name": "stderr",
     "output_type": "stream",
     "text": [
      "113it [00:27, 20.24it/s]"
     ]
    },
    {
     "name": "stdout",
     "output_type": "stream",
     "text": [
      "Couldn't process:  109\n",
      "Couldn't process:  110\n",
      "Couldn't process:  111\n",
      "Couldn't process:  112\n",
      "Couldn't process:  113\n"
     ]
    },
    {
     "name": "stderr",
     "output_type": "stream",
     "text": [
      "\r",
      "116it [00:28, 20.47it/s]"
     ]
    },
    {
     "name": "stdout",
     "output_type": "stream",
     "text": [
      "Couldn't process:  114\n",
      "Couldn't process:  115\n",
      "Couldn't process:  116\n",
      "Couldn't process:  117\n",
      "Couldn't process:  118\n"
     ]
    },
    {
     "name": "stderr",
     "output_type": "stream",
     "text": [
      "122it [00:28, 20.49it/s]"
     ]
    },
    {
     "name": "stdout",
     "output_type": "stream",
     "text": [
      "Couldn't process:  119\n",
      "Couldn't process:  120\n",
      "Couldn't process:  121\n",
      "Couldn't process:  122\n",
      "Couldn't process:  123\n"
     ]
    },
    {
     "name": "stderr",
     "output_type": "stream",
     "text": [
      "128it [00:28, 20.67it/s]"
     ]
    },
    {
     "name": "stdout",
     "output_type": "stream",
     "text": [
      "Couldn't process:  124\n",
      "Couldn't process:  125\n",
      "Couldn't process:  126\n",
      "Couldn't process:  127\n",
      "Couldn't process:  128\n"
     ]
    },
    {
     "name": "stderr",
     "output_type": "stream",
     "text": [
      "\r",
      "131it [00:28, 20.84it/s]"
     ]
    },
    {
     "name": "stdout",
     "output_type": "stream",
     "text": [
      "Couldn't process:  129\n",
      "Couldn't process:  130\n",
      "Couldn't process:  131\n",
      "Couldn't process:  132\n",
      "Couldn't process:  133\n"
     ]
    },
    {
     "name": "stderr",
     "output_type": "stream",
     "text": [
      "137it [00:29, 20.69it/s]"
     ]
    },
    {
     "name": "stdout",
     "output_type": "stream",
     "text": [
      "Couldn't process:  134\n",
      "Couldn't process:  135\n",
      "Couldn't process:  136\n",
      "Couldn't process:  137\n"
     ]
    },
    {
     "name": "stderr",
     "output_type": "stream",
     "text": [
      "\r",
      "140it [00:29, 20.23it/s]"
     ]
    },
    {
     "name": "stdout",
     "output_type": "stream",
     "text": [
      "Couldn't process:  138\n",
      "Couldn't process:  139\n",
      "Couldn't process:  140\n",
      "Couldn't process:  141\n",
      "Couldn't process:  142\n"
     ]
    },
    {
     "name": "stderr",
     "output_type": "stream",
     "text": [
      "146it [00:29, 20.34it/s]"
     ]
    },
    {
     "name": "stdout",
     "output_type": "stream",
     "text": [
      "Couldn't process:  143\n",
      "Couldn't process:  144\n",
      "Couldn't process:  145\n",
      "Couldn't process:  146\n",
      "Couldn't process:  147\n"
     ]
    },
    {
     "name": "stderr",
     "output_type": "stream",
     "text": [
      "152it [00:29, 20.41it/s]"
     ]
    },
    {
     "name": "stdout",
     "output_type": "stream",
     "text": [
      "Couldn't process:  148\n",
      "Couldn't process:  149\n",
      "Couldn't process:  150\n",
      "Couldn't process:  151\n",
      "Couldn't process:  152\n"
     ]
    },
    {
     "name": "stderr",
     "output_type": "stream",
     "text": [
      "\r",
      "155it [00:29, 20.37it/s]"
     ]
    },
    {
     "name": "stdout",
     "output_type": "stream",
     "text": [
      "Couldn't process:  153\n",
      "Couldn't process:  154\n",
      "Couldn't process:  155\n",
      "Couldn't process:  156\n",
      "Couldn't process:  157\n"
     ]
    },
    {
     "name": "stderr",
     "output_type": "stream",
     "text": [
      "161it [00:30, 20.54it/s]"
     ]
    },
    {
     "name": "stdout",
     "output_type": "stream",
     "text": [
      "Couldn't process:  158\n",
      "Couldn't process:  159\n",
      "Couldn't process:  160\n",
      "Couldn't process:  161\n",
      "Couldn't process:  162\n"
     ]
    },
    {
     "name": "stderr",
     "output_type": "stream",
     "text": [
      "167it [00:30, 20.58it/s]"
     ]
    },
    {
     "name": "stdout",
     "output_type": "stream",
     "text": [
      "Couldn't process:  163\n",
      "Couldn't process:  164\n",
      "Couldn't process:  165\n",
      "Couldn't process:  166\n",
      "Couldn't process:  167\n"
     ]
    },
    {
     "name": "stderr",
     "output_type": "stream",
     "text": [
      "\r",
      "170it [00:30, 20.59it/s]"
     ]
    },
    {
     "name": "stdout",
     "output_type": "stream",
     "text": [
      "Couldn't process:  168\n",
      "Couldn't process:  169\n",
      "Couldn't process:  170\n",
      "Couldn't process:  171\n",
      "Couldn't process:  172\n"
     ]
    },
    {
     "name": "stderr",
     "output_type": "stream",
     "text": [
      "176it [00:30, 20.63it/s]"
     ]
    },
    {
     "name": "stdout",
     "output_type": "stream",
     "text": [
      "Couldn't process:  173\n",
      "Couldn't process:  174\n",
      "Couldn't process:  175\n",
      "Couldn't process:  176\n",
      "Couldn't process:  177\n"
     ]
    },
    {
     "name": "stderr",
     "output_type": "stream",
     "text": [
      "182it [00:31, 20.98it/s]"
     ]
    },
    {
     "name": "stdout",
     "output_type": "stream",
     "text": [
      "Couldn't process:  178\n",
      "Couldn't process:  179\n",
      "Couldn't process:  180\n",
      "Couldn't process:  181\n",
      "Couldn't process:  182\n"
     ]
    },
    {
     "name": "stderr",
     "output_type": "stream",
     "text": [
      "\r",
      "185it [00:31, 21.16it/s]"
     ]
    },
    {
     "name": "stdout",
     "output_type": "stream",
     "text": [
      "Couldn't process:  183\n",
      "Couldn't process:  184\n",
      "Couldn't process:  185\n",
      "Couldn't process:  186\n",
      "Couldn't process:  187\n"
     ]
    },
    {
     "name": "stderr",
     "output_type": "stream",
     "text": [
      "191it [00:31, 21.36it/s]"
     ]
    },
    {
     "name": "stdout",
     "output_type": "stream",
     "text": [
      "Couldn't process:  188\n",
      "Couldn't process:  189\n",
      "Couldn't process:  190\n",
      "Couldn't process:  191\n",
      "Couldn't process:  192\n"
     ]
    },
    {
     "name": "stderr",
     "output_type": "stream",
     "text": [
      "197it [00:31, 21.43it/s]"
     ]
    },
    {
     "name": "stdout",
     "output_type": "stream",
     "text": [
      "Couldn't process:  193\n",
      "Couldn't process:  194\n",
      "Couldn't process:  195\n",
      "Couldn't process:  196\n",
      "Couldn't process:  197\n"
     ]
    },
    {
     "name": "stderr",
     "output_type": "stream",
     "text": [
      "\r",
      "200it [00:32, 21.28it/s]"
     ]
    },
    {
     "name": "stdout",
     "output_type": "stream",
     "text": [
      "Couldn't process:  198\n",
      "Couldn't process:  199\n",
      "Couldn't process:  200\n",
      "Couldn't process:  201\n",
      "Couldn't process:  202\n"
     ]
    },
    {
     "name": "stderr",
     "output_type": "stream",
     "text": [
      "206it [00:32, 21.35it/s]"
     ]
    },
    {
     "name": "stdout",
     "output_type": "stream",
     "text": [
      "Couldn't process:  203\n",
      "Couldn't process:  204\n",
      "Couldn't process:  205\n",
      "Couldn't process:  206\n",
      "Couldn't process:  207\n"
     ]
    },
    {
     "name": "stderr",
     "output_type": "stream",
     "text": [
      "212it [00:32, 21.28it/s]"
     ]
    },
    {
     "name": "stdout",
     "output_type": "stream",
     "text": [
      "Couldn't process:  208\n",
      "Couldn't process:  209\n",
      "Couldn't process:  210\n",
      "Couldn't process:  211\n",
      "Couldn't process:  212\n"
     ]
    },
    {
     "name": "stderr",
     "output_type": "stream",
     "text": [
      "\r",
      "215it [00:32, 21.25it/s]"
     ]
    },
    {
     "name": "stdout",
     "output_type": "stream",
     "text": [
      "Couldn't process:  213\n",
      "Couldn't process:  214\n",
      "Couldn't process:  215\n",
      "Couldn't process:  216\n",
      "Couldn't process:  217\n"
     ]
    },
    {
     "name": "stderr",
     "output_type": "stream",
     "text": [
      "221it [00:33, 21.23it/s]"
     ]
    },
    {
     "name": "stdout",
     "output_type": "stream",
     "text": [
      "Couldn't process:  218\n",
      "Couldn't process:  219\n",
      "Couldn't process:  220\n",
      "Couldn't process:  221\n",
      "Couldn't process:  222\n"
     ]
    },
    {
     "name": "stderr",
     "output_type": "stream",
     "text": [
      "227it [00:33, 20.79it/s]"
     ]
    },
    {
     "name": "stdout",
     "output_type": "stream",
     "text": [
      "Couldn't process:  223\n",
      "Couldn't process:  224\n",
      "Couldn't process:  225\n",
      "Couldn't process:  226\n",
      "Couldn't process:  227\n"
     ]
    },
    {
     "name": "stderr",
     "output_type": "stream",
     "text": [
      "\r",
      "230it [00:33, 20.67it/s]"
     ]
    },
    {
     "name": "stdout",
     "output_type": "stream",
     "text": [
      "Couldn't process:  228\n",
      "Couldn't process:  229\n",
      "Couldn't process:  230\n",
      "Couldn't process:  231\n",
      "Couldn't process:  232\n"
     ]
    },
    {
     "name": "stderr",
     "output_type": "stream",
     "text": [
      "236it [00:33, 20.48it/s]"
     ]
    },
    {
     "name": "stdout",
     "output_type": "stream",
     "text": [
      "Couldn't process:  233\n",
      "Couldn't process:  234\n",
      "Couldn't process:  235\n",
      "Couldn't process:  236\n",
      "Couldn't process:  237\n"
     ]
    },
    {
     "name": "stderr",
     "output_type": "stream",
     "text": [
      "242it [00:34, 20.71it/s]"
     ]
    },
    {
     "name": "stdout",
     "output_type": "stream",
     "text": [
      "Couldn't process:  238\n",
      "Couldn't process:  239\n",
      "Couldn't process:  240\n",
      "Couldn't process:  241\n",
      "Couldn't process:  242\n"
     ]
    },
    {
     "name": "stderr",
     "output_type": "stream",
     "text": [
      "\r",
      "245it [00:34, 20.60it/s]"
     ]
    },
    {
     "name": "stdout",
     "output_type": "stream",
     "text": [
      "Couldn't process:  243\n",
      "Couldn't process:  244\n",
      "Couldn't process:  245\n",
      "Couldn't process:  246\n",
      "Couldn't process:  247\n"
     ]
    },
    {
     "name": "stderr",
     "output_type": "stream",
     "text": [
      "251it [00:34, 20.73it/s]"
     ]
    },
    {
     "name": "stdout",
     "output_type": "stream",
     "text": [
      "Couldn't process:  248\n",
      "Couldn't process:  249\n",
      "Couldn't process:  250\n",
      "Couldn't process:  251\n",
      "Couldn't process:  252\n"
     ]
    },
    {
     "name": "stderr",
     "output_type": "stream",
     "text": [
      "257it [00:34, 20.50it/s]"
     ]
    },
    {
     "name": "stdout",
     "output_type": "stream",
     "text": [
      "Couldn't process:  253\n",
      "Couldn't process:  254\n",
      "Couldn't process:  255\n",
      "Couldn't process:  256\n",
      "Couldn't process:  257\n"
     ]
    },
    {
     "name": "stderr",
     "output_type": "stream",
     "text": [
      "\r",
      "260it [00:34, 20.68it/s]"
     ]
    },
    {
     "name": "stdout",
     "output_type": "stream",
     "text": [
      "Couldn't process:  258\n",
      "Couldn't process:  259\n",
      "Couldn't process:  260\n",
      "Couldn't process:  261\n",
      "Couldn't process:  262\n"
     ]
    },
    {
     "name": "stderr",
     "output_type": "stream",
     "text": [
      "266it [00:35, 20.88it/s]"
     ]
    },
    {
     "name": "stdout",
     "output_type": "stream",
     "text": [
      "Couldn't process:  263\n",
      "Couldn't process:  264\n",
      "Couldn't process:  265\n",
      "Couldn't process:  266\n",
      "Couldn't process:  267\n"
     ]
    },
    {
     "name": "stderr",
     "output_type": "stream",
     "text": [
      "272it [00:35, 21.02it/s]"
     ]
    },
    {
     "name": "stdout",
     "output_type": "stream",
     "text": [
      "Couldn't process:  268\n",
      "Couldn't process:  269\n",
      "Couldn't process:  270\n",
      "Couldn't process:  271\n",
      "Couldn't process:  272\n"
     ]
    },
    {
     "name": "stderr",
     "output_type": "stream",
     "text": [
      "\r",
      "275it [00:35, 20.93it/s]"
     ]
    },
    {
     "name": "stdout",
     "output_type": "stream",
     "text": [
      "Couldn't process:  273\n",
      "Couldn't process:  274\n",
      "Couldn't process:  275\n",
      "Couldn't process:  276\n",
      "Couldn't process:  277\n"
     ]
    },
    {
     "name": "stderr",
     "output_type": "stream",
     "text": [
      "281it [00:36, 20.79it/s]"
     ]
    },
    {
     "name": "stdout",
     "output_type": "stream",
     "text": [
      "Couldn't process:  278\n",
      "Couldn't process:  279\n",
      "Couldn't process:  280\n",
      "Couldn't process:  281\n",
      "Couldn't process:  282\n"
     ]
    },
    {
     "name": "stderr",
     "output_type": "stream",
     "text": [
      "287it [00:36, 20.61it/s]"
     ]
    },
    {
     "name": "stdout",
     "output_type": "stream",
     "text": [
      "Couldn't process:  283\n",
      "Couldn't process:  284\n",
      "Couldn't process:  285\n",
      "Couldn't process:  286\n",
      "Couldn't process:  287\n"
     ]
    },
    {
     "name": "stderr",
     "output_type": "stream",
     "text": [
      "\r",
      "290it [00:36, 20.76it/s]"
     ]
    },
    {
     "name": "stdout",
     "output_type": "stream",
     "text": [
      "Couldn't process:  288\n",
      "Couldn't process:  289\n",
      "Couldn't process:  290\n",
      "Couldn't process:  291\n",
      "Couldn't process:  292\n"
     ]
    },
    {
     "name": "stderr",
     "output_type": "stream",
     "text": [
      "296it [00:36, 20.44it/s]"
     ]
    },
    {
     "name": "stdout",
     "output_type": "stream",
     "text": [
      "Couldn't process:  293\n",
      "Couldn't process:  294\n",
      "Couldn't process:  295\n",
      "Couldn't process:  296\n",
      "Couldn't process:  297\n"
     ]
    },
    {
     "name": "stderr",
     "output_type": "stream",
     "text": [
      "\r",
      "299it [00:36, 20.40it/s]"
     ]
    },
    {
     "name": "stdout",
     "output_type": "stream",
     "text": [
      "Couldn't process:  298\n",
      "Couldn't process:  299\n",
      "Couldn't process:  300\n",
      "Couldn't process:  301\n"
     ]
    },
    {
     "name": "stderr",
     "output_type": "stream",
     "text": [
      "305it [00:37, 20.61it/s]"
     ]
    },
    {
     "name": "stdout",
     "output_type": "stream",
     "text": [
      "Couldn't process:  302\n",
      "Couldn't process:  303\n",
      "Couldn't process:  304\n",
      "Couldn't process:  305\n",
      "Couldn't process:  306\n"
     ]
    },
    {
     "name": "stderr",
     "output_type": "stream",
     "text": [
      "311it [00:37, 20.40it/s]"
     ]
    },
    {
     "name": "stdout",
     "output_type": "stream",
     "text": [
      "Couldn't process:  307\n",
      "Couldn't process:  308\n",
      "Couldn't process:  309\n",
      "Couldn't process:  310\n",
      "Couldn't process:  311\n"
     ]
    },
    {
     "name": "stderr",
     "output_type": "stream",
     "text": [
      "\r",
      "314it [00:37, 20.53it/s]"
     ]
    },
    {
     "name": "stdout",
     "output_type": "stream",
     "text": [
      "Couldn't process:  312\n",
      "Couldn't process:  313\n",
      "Couldn't process:  314\n",
      "Couldn't process:  315\n",
      "Couldn't process:  316\n"
     ]
    },
    {
     "name": "stderr",
     "output_type": "stream",
     "text": [
      "320it [00:37, 20.62it/s]"
     ]
    },
    {
     "name": "stdout",
     "output_type": "stream",
     "text": [
      "Couldn't process:  317\n",
      "Couldn't process:  318\n",
      "Couldn't process:  319\n",
      "Couldn't process:  320\n",
      "Couldn't process:  321\n"
     ]
    },
    {
     "name": "stderr",
     "output_type": "stream",
     "text": [
      "326it [00:38, 20.42it/s]"
     ]
    },
    {
     "name": "stdout",
     "output_type": "stream",
     "text": [
      "Couldn't process:  322\n",
      "Couldn't process:  323\n",
      "Couldn't process:  324\n",
      "Couldn't process:  325\n",
      "Couldn't process:  326\n"
     ]
    },
    {
     "name": "stderr",
     "output_type": "stream",
     "text": [
      "\r",
      "329it [00:38, 20.48it/s]"
     ]
    },
    {
     "name": "stdout",
     "output_type": "stream",
     "text": [
      "Couldn't process:  327\n",
      "Couldn't process:  328\n",
      "Couldn't process:  329\n",
      "Couldn't process:  330\n",
      "Couldn't process:  331\n"
     ]
    },
    {
     "name": "stderr",
     "output_type": "stream",
     "text": [
      "335it [00:38, 20.82it/s]"
     ]
    },
    {
     "name": "stdout",
     "output_type": "stream",
     "text": [
      "Couldn't process:  332\n",
      "Couldn't process:  333\n",
      "Couldn't process:  334\n",
      "Couldn't process:  335\n",
      "Couldn't process:  336\n"
     ]
    },
    {
     "name": "stderr",
     "output_type": "stream",
     "text": [
      "341it [00:38, 20.80it/s]"
     ]
    },
    {
     "name": "stdout",
     "output_type": "stream",
     "text": [
      "Couldn't process:  337\n",
      "Couldn't process:  338\n",
      "Couldn't process:  339\n",
      "Couldn't process:  340\n",
      "Couldn't process:  341\n"
     ]
    },
    {
     "name": "stderr",
     "output_type": "stream",
     "text": [
      "\r",
      "344it [00:39, 20.47it/s]"
     ]
    },
    {
     "name": "stdout",
     "output_type": "stream",
     "text": [
      "Couldn't process:  342\n",
      "Couldn't process:  343\n",
      "Couldn't process:  344\n",
      "Couldn't process:  345\n",
      "Couldn't process:  346\n"
     ]
    },
    {
     "name": "stderr",
     "output_type": "stream",
     "text": [
      "350it [00:39, 20.69it/s]"
     ]
    },
    {
     "name": "stdout",
     "output_type": "stream",
     "text": [
      "Couldn't process:  347\n",
      "Couldn't process:  348\n",
      "Couldn't process:  349\n",
      "Couldn't process:  350\n",
      "Couldn't process:  351\n"
     ]
    },
    {
     "name": "stderr",
     "output_type": "stream",
     "text": [
      "356it [00:39, 20.60it/s]"
     ]
    },
    {
     "name": "stdout",
     "output_type": "stream",
     "text": [
      "Couldn't process:  352\n",
      "Couldn't process:  353\n",
      "Couldn't process:  354\n",
      "Couldn't process:  355\n",
      "Couldn't process:  356\n"
     ]
    },
    {
     "name": "stderr",
     "output_type": "stream",
     "text": [
      "\r",
      "359it [00:39, 20.59it/s]"
     ]
    },
    {
     "name": "stdout",
     "output_type": "stream",
     "text": [
      "Couldn't process:  357\n",
      "Couldn't process:  358\n",
      "Couldn't process:  359\n",
      "Couldn't process:  360\n",
      "Couldn't process:  361\n"
     ]
    },
    {
     "name": "stderr",
     "output_type": "stream",
     "text": [
      "365it [00:40, 20.15it/s]"
     ]
    },
    {
     "name": "stdout",
     "output_type": "stream",
     "text": [
      "Couldn't process:  362\n",
      "Couldn't process:  363\n",
      "Couldn't process:  364\n",
      "Couldn't process:  365\n"
     ]
    },
    {
     "name": "stderr",
     "output_type": "stream",
     "text": [
      "\r",
      "368it [00:40, 20.21it/s]"
     ]
    },
    {
     "name": "stdout",
     "output_type": "stream",
     "text": [
      "Couldn't process:  366\n",
      "Couldn't process:  367\n",
      "Couldn't process:  368\n",
      "Couldn't process:  369\n",
      "Couldn't process:  370\n"
     ]
    },
    {
     "name": "stderr",
     "output_type": "stream",
     "text": [
      "374it [00:40, 20.51it/s]"
     ]
    },
    {
     "name": "stdout",
     "output_type": "stream",
     "text": [
      "Couldn't process:  371\n",
      "Couldn't process:  372\n",
      "Couldn't process:  373\n",
      "Couldn't process:  374\n",
      "Couldn't process:  375\n"
     ]
    },
    {
     "name": "stderr",
     "output_type": "stream",
     "text": [
      "380it [00:40, 20.89it/s]"
     ]
    },
    {
     "name": "stdout",
     "output_type": "stream",
     "text": [
      "Couldn't process:  376\n",
      "Couldn't process:  377\n",
      "Couldn't process:  378\n",
      "Couldn't process:  379\n",
      "Couldn't process:  380\n"
     ]
    },
    {
     "name": "stderr",
     "output_type": "stream",
     "text": [
      "\r",
      "383it [00:40, 20.97it/s]"
     ]
    },
    {
     "name": "stdout",
     "output_type": "stream",
     "text": [
      "Couldn't process:  381\n",
      "Couldn't process:  382\n",
      "Couldn't process:  383\n",
      "Couldn't process:  384\n",
      "Couldn't process:  385\n"
     ]
    },
    {
     "name": "stderr",
     "output_type": "stream",
     "text": [
      "389it [00:41, 20.79it/s]"
     ]
    },
    {
     "name": "stdout",
     "output_type": "stream",
     "text": [
      "Couldn't process:  386\n",
      "Couldn't process:  387\n",
      "Couldn't process:  388\n",
      "Couldn't process:  389\n",
      "Couldn't process:  390\n"
     ]
    },
    {
     "name": "stderr",
     "output_type": "stream",
     "text": [
      "395it [00:41, 20.84it/s]"
     ]
    },
    {
     "name": "stdout",
     "output_type": "stream",
     "text": [
      "Couldn't process:  391\n",
      "Couldn't process:  392\n",
      "Couldn't process:  393\n",
      "Couldn't process:  394\n",
      "Couldn't process:  395\n"
     ]
    },
    {
     "name": "stderr",
     "output_type": "stream",
     "text": [
      "\r",
      "398it [00:41, 20.75it/s]"
     ]
    },
    {
     "name": "stdout",
     "output_type": "stream",
     "text": [
      "Couldn't process:  396\n",
      "Couldn't process:  397\n",
      "Couldn't process:  398\n",
      "Couldn't process:  399\n",
      "Couldn't process:  400\n"
     ]
    },
    {
     "name": "stderr",
     "output_type": "stream",
     "text": [
      "404it [00:41, 20.83it/s]"
     ]
    },
    {
     "name": "stdout",
     "output_type": "stream",
     "text": [
      "Couldn't process:  401\n",
      "Couldn't process:  402\n",
      "Couldn't process:  403\n",
      "Couldn't process:  404\n",
      "Couldn't process:  405\n"
     ]
    },
    {
     "name": "stderr",
     "output_type": "stream",
     "text": [
      "410it [00:42, 20.98it/s]"
     ]
    },
    {
     "name": "stdout",
     "output_type": "stream",
     "text": [
      "Couldn't process:  406\n",
      "Couldn't process:  407\n",
      "Couldn't process:  408\n",
      "Couldn't process:  409\n",
      "Couldn't process:  410\n"
     ]
    },
    {
     "name": "stderr",
     "output_type": "stream",
     "text": [
      "\r",
      "413it [00:42, 20.83it/s]"
     ]
    },
    {
     "name": "stdout",
     "output_type": "stream",
     "text": [
      "Couldn't process:  411\n",
      "Couldn't process:  412\n",
      "Couldn't process:  413\n",
      "Couldn't process:  414\n",
      "Couldn't process:  415\n"
     ]
    },
    {
     "name": "stderr",
     "output_type": "stream",
     "text": [
      "419it [00:42, 20.13it/s]"
     ]
    },
    {
     "name": "stdout",
     "output_type": "stream",
     "text": [
      "Couldn't process:  416\n",
      "Couldn't process:  417\n",
      "Couldn't process:  418\n",
      "Couldn't process:  419\n",
      "Couldn't process:  420\n"
     ]
    },
    {
     "name": "stderr",
     "output_type": "stream",
     "text": [
      "425it [00:43, 20.30it/s]"
     ]
    },
    {
     "name": "stdout",
     "output_type": "stream",
     "text": [
      "Couldn't process:  421\n",
      "Couldn't process:  422\n",
      "Couldn't process:  423\n",
      "Couldn't process:  424\n",
      "Couldn't process:  425\n"
     ]
    },
    {
     "name": "stderr",
     "output_type": "stream",
     "text": [
      "\r",
      "428it [00:43, 20.10it/s]"
     ]
    },
    {
     "name": "stdout",
     "output_type": "stream",
     "text": [
      "Couldn't process:  426\n",
      "Couldn't process:  427\n",
      "Couldn't process:  428\n",
      "Couldn't process:  429\n",
      "Couldn't process:  430\n"
     ]
    },
    {
     "name": "stderr",
     "output_type": "stream",
     "text": [
      "434it [00:43, 20.11it/s]"
     ]
    },
    {
     "name": "stdout",
     "output_type": "stream",
     "text": [
      "Couldn't process:  431\n",
      "Couldn't process:  432\n",
      "Couldn't process:  433\n",
      "Couldn't process:  434\n",
      "Couldn't process:  435\n"
     ]
    },
    {
     "name": "stderr",
     "output_type": "stream",
     "text": [
      "440it [00:43, 20.03it/s]"
     ]
    },
    {
     "name": "stdout",
     "output_type": "stream",
     "text": [
      "Couldn't process:  436\n",
      "Couldn't process:  437\n",
      "Couldn't process:  438\n",
      "Couldn't process:  439\n",
      "Couldn't process:  440\n"
     ]
    },
    {
     "name": "stderr",
     "output_type": "stream",
     "text": [
      "\r",
      "443it [00:43, 19.31it/s]"
     ]
    },
    {
     "name": "stdout",
     "output_type": "stream",
     "text": [
      "Couldn't process:  441\n",
      "Couldn't process:  442\n",
      "Couldn't process:  443\n",
      "Couldn't process:  444\n"
     ]
    },
    {
     "name": "stderr",
     "output_type": "stream",
     "text": [
      "447it [00:44, 19.08it/s]"
     ]
    },
    {
     "name": "stdout",
     "output_type": "stream",
     "text": [
      "Couldn't process:  445\n",
      "Couldn't process:  446\n",
      "Couldn't process:  447\n",
      "Couldn't process:  448\n"
     ]
    },
    {
     "name": "stderr",
     "output_type": "stream",
     "text": [
      "452it [00:44, 19.37it/s]"
     ]
    },
    {
     "name": "stdout",
     "output_type": "stream",
     "text": [
      "Couldn't process:  449\n",
      "Couldn't process:  450\n",
      "Couldn't process:  451\n",
      "Couldn't process:  452\n"
     ]
    },
    {
     "name": "stderr",
     "output_type": "stream",
     "text": [
      "456it [00:44, 19.46it/s]"
     ]
    },
    {
     "name": "stdout",
     "output_type": "stream",
     "text": [
      "Couldn't process:  453\n",
      "Couldn't process:  454\n",
      "Couldn't process:  455\n",
      "Couldn't process:  456\n"
     ]
    },
    {
     "name": "stderr",
     "output_type": "stream",
     "text": [
      "460it [00:44, 19.24it/s]"
     ]
    },
    {
     "name": "stdout",
     "output_type": "stream",
     "text": [
      "Couldn't process:  457\n",
      "Couldn't process:  458\n",
      "Couldn't process:  459\n",
      "Couldn't process:  460\n"
     ]
    },
    {
     "name": "stderr",
     "output_type": "stream",
     "text": [
      "464it [00:45, 19.52it/s]"
     ]
    },
    {
     "name": "stdout",
     "output_type": "stream",
     "text": [
      "Couldn't process:  461\n",
      "Couldn't process:  462\n",
      "Couldn't process:  463\n",
      "Couldn't process:  464\n",
      "Couldn't process:  465\n"
     ]
    },
    {
     "name": "stderr",
     "output_type": "stream",
     "text": [
      "469it [00:45, 19.66it/s]"
     ]
    },
    {
     "name": "stdout",
     "output_type": "stream",
     "text": [
      "Couldn't process:  466\n",
      "Couldn't process:  467\n",
      "Couldn't process:  468\n",
      "Couldn't process:  469\n"
     ]
    },
    {
     "name": "stderr",
     "output_type": "stream",
     "text": [
      "473it [00:45, 19.24it/s]"
     ]
    },
    {
     "name": "stdout",
     "output_type": "stream",
     "text": [
      "Couldn't process:  470\n",
      "Couldn't process:  471\n",
      "Couldn't process:  472\n",
      "Couldn't process:  473\n",
      "Couldn't process:  474\n"
     ]
    },
    {
     "name": "stderr",
     "output_type": "stream",
     "text": [
      "479it [00:45, 19.93it/s]"
     ]
    },
    {
     "name": "stdout",
     "output_type": "stream",
     "text": [
      "Couldn't process:  475\n",
      "Couldn't process:  476\n",
      "Couldn't process:  477\n",
      "Couldn't process:  478\n",
      "Couldn't process:  479\n"
     ]
    },
    {
     "name": "stderr",
     "output_type": "stream",
     "text": [
      "484it [00:46, 20.05it/s]"
     ]
    },
    {
     "name": "stdout",
     "output_type": "stream",
     "text": [
      "Couldn't process:  480\n",
      "Couldn't process:  481\n",
      "Couldn't process:  482\n",
      "Couldn't process:  483\n",
      "Couldn't process:  484\n"
     ]
    },
    {
     "name": "stderr",
     "output_type": "stream",
     "text": [
      "488it [00:46, 19.76it/s]"
     ]
    },
    {
     "name": "stdout",
     "output_type": "stream",
     "text": [
      "Couldn't process:  485\n",
      "Couldn't process:  486\n",
      "Couldn't process:  487\n",
      "Couldn't process:  488\n"
     ]
    },
    {
     "name": "stderr",
     "output_type": "stream",
     "text": [
      "493it [00:46, 19.71it/s]"
     ]
    },
    {
     "name": "stdout",
     "output_type": "stream",
     "text": [
      "Couldn't process:  489\n",
      "Couldn't process:  490\n",
      "Couldn't process:  491\n",
      "Couldn't process:  492\n",
      "Couldn't process:  493\n"
     ]
    },
    {
     "name": "stderr",
     "output_type": "stream",
     "text": [
      "\r",
      "496it [00:46, 20.06it/s]"
     ]
    },
    {
     "name": "stdout",
     "output_type": "stream",
     "text": [
      "Couldn't process:  494\n",
      "Couldn't process:  495\n",
      "Couldn't process:  496\n",
      "Couldn't process:  497\n",
      "Couldn't process:  498\n"
     ]
    },
    {
     "name": "stderr",
     "output_type": "stream",
     "text": [
      "502it [00:46, 20.46it/s]"
     ]
    },
    {
     "name": "stdout",
     "output_type": "stream",
     "text": [
      "Couldn't process:  499\n",
      "Couldn't process:  500\n",
      "Couldn't process:  501\n",
      "Couldn't process:  502\n",
      "Couldn't process:  503\n"
     ]
    },
    {
     "name": "stderr",
     "output_type": "stream",
     "text": [
      "\r",
      "505it [00:47, 20.36it/s]"
     ]
    },
    {
     "name": "stdout",
     "output_type": "stream",
     "text": [
      "Couldn't process:  504\n",
      "Couldn't process:  505\n",
      "Couldn't process:  506\n",
      "Couldn't process:  507\n"
     ]
    },
    {
     "name": "stderr",
     "output_type": "stream",
     "text": [
      "510it [00:47, 19.55it/s]"
     ]
    },
    {
     "name": "stdout",
     "output_type": "stream",
     "text": [
      "Couldn't process:  508\n",
      "Couldn't process:  509\n",
      "Couldn't process:  510\n",
      "Couldn't process:  511\n"
     ]
    },
    {
     "name": "stderr",
     "output_type": "stream",
     "text": [
      "515it [00:47, 19.50it/s]"
     ]
    },
    {
     "name": "stdout",
     "output_type": "stream",
     "text": [
      "Couldn't process:  512\n",
      "Couldn't process:  513\n",
      "Couldn't process:  514\n",
      "Couldn't process:  515\n",
      "Couldn't process:  516\n"
     ]
    },
    {
     "name": "stderr",
     "output_type": "stream",
     "text": [
      "521it [00:47, 20.15it/s]"
     ]
    },
    {
     "name": "stdout",
     "output_type": "stream",
     "text": [
      "Couldn't process:  517\n",
      "Couldn't process:  518\n",
      "Couldn't process:  519\n",
      "Couldn't process:  520\n",
      "Couldn't process:  521\n"
     ]
    },
    {
     "name": "stderr",
     "output_type": "stream",
     "text": [
      "\r",
      "524it [00:48, 19.71it/s]"
     ]
    },
    {
     "name": "stdout",
     "output_type": "stream",
     "text": [
      "Couldn't process:  522\n",
      "Couldn't process:  523\n",
      "Couldn't process:  524\n",
      "Couldn't process:  525\n"
     ]
    },
    {
     "name": "stderr",
     "output_type": "stream",
     "text": [
      "528it [00:48, 19.37it/s]"
     ]
    },
    {
     "name": "stdout",
     "output_type": "stream",
     "text": [
      "Couldn't process:  526\n",
      "Couldn't process:  527\n",
      "Couldn't process:  528\n",
      "Couldn't process:  529\n"
     ]
    },
    {
     "name": "stderr",
     "output_type": "stream",
     "text": [
      "534it [00:48, 20.13it/s]"
     ]
    },
    {
     "name": "stdout",
     "output_type": "stream",
     "text": [
      "Couldn't process:  530\n",
      "Couldn't process:  531\n",
      "Couldn't process:  532\n",
      "Couldn't process:  533\n",
      "Couldn't process:  534\n"
     ]
    },
    {
     "name": "stderr",
     "output_type": "stream",
     "text": [
      "\r",
      "537it [00:48, 20.03it/s]"
     ]
    },
    {
     "name": "stdout",
     "output_type": "stream",
     "text": [
      "Couldn't process:  535\n",
      "Couldn't process:  536\n",
      "Couldn't process:  537\n",
      "Couldn't process:  538\n",
      "Couldn't process:  539\n"
     ]
    },
    {
     "name": "stderr",
     "output_type": "stream",
     "text": [
      "542it [00:48, 19.88it/s]"
     ]
    },
    {
     "name": "stdout",
     "output_type": "stream",
     "text": [
      "Couldn't process:  540\n",
      "Couldn't process:  541\n",
      "Couldn't process:  542\n",
      "Couldn't process:  543\n",
      "Couldn't process:  544\n"
     ]
    },
    {
     "name": "stderr",
     "output_type": "stream",
     "text": [
      "548it [00:49, 20.27it/s]"
     ]
    },
    {
     "name": "stdout",
     "output_type": "stream",
     "text": [
      "Couldn't process:  545\n",
      "Couldn't process:  546\n",
      "Couldn't process:  547\n",
      "Couldn't process:  548\n",
      "Couldn't process:  549\n"
     ]
    },
    {
     "name": "stderr",
     "output_type": "stream",
     "text": [
      "554it [00:49, 20.34it/s]"
     ]
    },
    {
     "name": "stdout",
     "output_type": "stream",
     "text": [
      "Couldn't process:  550\n",
      "Couldn't process:  551\n",
      "Couldn't process:  552\n",
      "Couldn't process:  553\n",
      "Couldn't process:  554\n"
     ]
    },
    {
     "name": "stderr",
     "output_type": "stream",
     "text": [
      "\r",
      "557it [00:49, 20.31it/s]"
     ]
    },
    {
     "name": "stdout",
     "output_type": "stream",
     "text": [
      "Couldn't process:  555\n",
      "Couldn't process:  556\n",
      "Couldn't process:  557\n",
      "Couldn't process:  558\n",
      "Couldn't process:  559\n"
     ]
    },
    {
     "name": "stderr",
     "output_type": "stream",
     "text": [
      "563it [00:49, 20.65it/s]"
     ]
    },
    {
     "name": "stdout",
     "output_type": "stream",
     "text": [
      "Couldn't process:  560\n",
      "Couldn't process:  561\n",
      "Couldn't process:  562\n",
      "Couldn't process:  563\n",
      "Couldn't process:  564\n"
     ]
    },
    {
     "name": "stderr",
     "output_type": "stream",
     "text": [
      "569it [00:50, 20.54it/s]"
     ]
    },
    {
     "name": "stdout",
     "output_type": "stream",
     "text": [
      "Couldn't process:  565\n",
      "Couldn't process:  566\n",
      "Couldn't process:  567\n",
      "Couldn't process:  568\n",
      "Couldn't process:  569\n"
     ]
    },
    {
     "name": "stderr",
     "output_type": "stream",
     "text": [
      "\r",
      "572it [00:50, 20.59it/s]"
     ]
    },
    {
     "name": "stdout",
     "output_type": "stream",
     "text": [
      "Couldn't process:  570\n",
      "Couldn't process:  571\n",
      "Couldn't process:  572\n",
      "Couldn't process:  573\n",
      "Couldn't process:  574\n"
     ]
    },
    {
     "name": "stderr",
     "output_type": "stream",
     "text": [
      "578it [00:50, 20.63it/s]"
     ]
    },
    {
     "name": "stdout",
     "output_type": "stream",
     "text": [
      "Couldn't process:  575\n",
      "Couldn't process:  576\n",
      "Couldn't process:  577\n",
      "Couldn't process:  578\n",
      "Couldn't process:  579\n"
     ]
    },
    {
     "name": "stderr",
     "output_type": "stream",
     "text": [
      "584it [00:50, 20.88it/s]"
     ]
    },
    {
     "name": "stdout",
     "output_type": "stream",
     "text": [
      "Couldn't process:  580\n",
      "Couldn't process:  581\n",
      "Couldn't process:  582\n",
      "Couldn't process:  583\n",
      "Couldn't process:  584\n"
     ]
    },
    {
     "name": "stderr",
     "output_type": "stream",
     "text": [
      "\r",
      "587it [00:51, 20.87it/s]"
     ]
    },
    {
     "name": "stdout",
     "output_type": "stream",
     "text": [
      "Couldn't process:  585\n",
      "Couldn't process:  586\n",
      "Couldn't process:  587\n",
      "Couldn't process:  588\n",
      "Couldn't process:  589\n"
     ]
    },
    {
     "name": "stderr",
     "output_type": "stream",
     "text": [
      "593it [00:51, 21.02it/s]"
     ]
    },
    {
     "name": "stdout",
     "output_type": "stream",
     "text": [
      "Couldn't process:  590\n",
      "Couldn't process:  591\n",
      "Couldn't process:  592\n",
      "Couldn't process:  593\n",
      "Couldn't process:  594\n"
     ]
    },
    {
     "name": "stderr",
     "output_type": "stream",
     "text": [
      "599it [00:51, 21.24it/s]"
     ]
    },
    {
     "name": "stdout",
     "output_type": "stream",
     "text": [
      "Couldn't process:  595\n",
      "Couldn't process:  596\n",
      "Couldn't process:  597\n",
      "Couldn't process:  598\n",
      "Couldn't process:  599\n"
     ]
    },
    {
     "name": "stderr",
     "output_type": "stream",
     "text": [
      "\r",
      "602it [00:51, 21.11it/s]"
     ]
    },
    {
     "name": "stdout",
     "output_type": "stream",
     "text": [
      "Couldn't process:  600\n",
      "Couldn't process:  601\n",
      "Couldn't process:  602\n",
      "Couldn't process:  603\n",
      "Couldn't process:  604\n"
     ]
    },
    {
     "name": "stderr",
     "output_type": "stream",
     "text": [
      "608it [00:52, 21.30it/s]"
     ]
    },
    {
     "name": "stdout",
     "output_type": "stream",
     "text": [
      "Couldn't process:  605\n",
      "Couldn't process:  606\n",
      "Couldn't process:  607\n",
      "Couldn't process:  608\n",
      "Couldn't process:  609\n"
     ]
    },
    {
     "name": "stderr",
     "output_type": "stream",
     "text": [
      "614it [00:52, 20.89it/s]"
     ]
    },
    {
     "name": "stdout",
     "output_type": "stream",
     "text": [
      "Couldn't process:  610\n",
      "Couldn't process:  611\n",
      "Couldn't process:  612\n",
      "Couldn't process:  613\n",
      "Couldn't process:  614\n"
     ]
    },
    {
     "name": "stderr",
     "output_type": "stream",
     "text": [
      "\r",
      "617it [00:52, 20.69it/s]"
     ]
    },
    {
     "name": "stdout",
     "output_type": "stream",
     "text": [
      "Couldn't process:  615\n",
      "Couldn't process:  616\n",
      "Couldn't process:  617\n",
      "Couldn't process:  618\n",
      "Couldn't process:  619\n"
     ]
    },
    {
     "name": "stderr",
     "output_type": "stream",
     "text": [
      "623it [00:52, 20.95it/s]"
     ]
    },
    {
     "name": "stdout",
     "output_type": "stream",
     "text": [
      "Couldn't process:  620\n",
      "Couldn't process:  621\n",
      "Couldn't process:  622\n",
      "Couldn't process:  623\n",
      "Couldn't process:  624\n"
     ]
    },
    {
     "name": "stderr",
     "output_type": "stream",
     "text": [
      "629it [00:53, 20.95it/s]"
     ]
    },
    {
     "name": "stdout",
     "output_type": "stream",
     "text": [
      "Couldn't process:  625\n",
      "Couldn't process:  626\n",
      "Couldn't process:  627\n",
      "Couldn't process:  628\n",
      "Couldn't process:  629\n"
     ]
    },
    {
     "name": "stderr",
     "output_type": "stream",
     "text": [
      "\r",
      "632it [00:53, 20.85it/s]"
     ]
    },
    {
     "name": "stdout",
     "output_type": "stream",
     "text": [
      "Couldn't process:  630\n",
      "Couldn't process:  631\n",
      "Couldn't process:  632\n",
      "Couldn't process:  633\n",
      "Couldn't process:  634\n"
     ]
    },
    {
     "name": "stderr",
     "output_type": "stream",
     "text": [
      "638it [00:53, 20.92it/s]"
     ]
    },
    {
     "name": "stdout",
     "output_type": "stream",
     "text": [
      "Couldn't process:  635\n",
      "Couldn't process:  636\n",
      "Couldn't process:  637\n",
      "Couldn't process:  638\n",
      "Couldn't process:  639\n"
     ]
    },
    {
     "name": "stderr",
     "output_type": "stream",
     "text": [
      "\r",
      "641it [00:53, 20.15it/s]"
     ]
    },
    {
     "name": "stdout",
     "output_type": "stream",
     "text": [
      "Couldn't process:  640\n",
      "Couldn't process:  641\n",
      "Couldn't process:  642\n",
      "Couldn't process:  643\n"
     ]
    },
    {
     "name": "stderr",
     "output_type": "stream",
     "text": [
      "647it [00:54, 19.00it/s]"
     ]
    },
    {
     "name": "stdout",
     "output_type": "stream",
     "text": [
      "Couldn't process:  644\n",
      "Couldn't process:  645\n",
      "Couldn't process:  646\n",
      "Couldn't process:  647\n",
      "Couldn't process:  648\n"
     ]
    },
    {
     "name": "stderr",
     "output_type": "stream",
     "text": [
      "652it [00:54, 19.58it/s]"
     ]
    },
    {
     "name": "stdout",
     "output_type": "stream",
     "text": [
      "Couldn't process:  649\n",
      "Couldn't process:  650\n",
      "Couldn't process:  651\n",
      "Couldn't process:  652\n",
      "Couldn't process:  653\n"
     ]
    },
    {
     "name": "stderr",
     "output_type": "stream",
     "text": [
      "657it [00:54, 19.61it/s]"
     ]
    },
    {
     "name": "stdout",
     "output_type": "stream",
     "text": [
      "Couldn't process:  654\n",
      "Couldn't process:  655\n",
      "Couldn't process:  656\n",
      "Couldn't process:  657\n",
      "Couldn't process:  658\n"
     ]
    },
    {
     "name": "stderr",
     "output_type": "stream",
     "text": [
      "661it [00:54, 19.35it/s]"
     ]
    },
    {
     "name": "stdout",
     "output_type": "stream",
     "text": [
      "Couldn't process:  659\n",
      "Couldn't process:  660\n",
      "Couldn't process:  661\n",
      "Couldn't process:  662\n"
     ]
    },
    {
     "name": "stderr",
     "output_type": "stream",
     "text": [
      "668it [00:55, 19.79it/s]"
     ]
    },
    {
     "name": "stdout",
     "output_type": "stream",
     "text": [
      "Couldn't process:  663\n",
      "Couldn't process:  664\n",
      "Couldn't process:  665\n",
      "Couldn't process:  666\n",
      "Couldn't process:  667\n",
      "Couldn't process:  668\n"
     ]
    },
    {
     "name": "stderr",
     "output_type": "stream",
     "text": [
      "672it [00:55, 19.44it/s]"
     ]
    },
    {
     "name": "stdout",
     "output_type": "stream",
     "text": [
      "Couldn't process:  669\n",
      "Couldn't process:  670\n",
      "Couldn't process:  671\n",
      "Couldn't process:  672\n",
      "Couldn't process:  673\n"
     ]
    },
    {
     "name": "stderr",
     "output_type": "stream",
     "text": [
      "678it [00:55, 19.86it/s]"
     ]
    },
    {
     "name": "stdout",
     "output_type": "stream",
     "text": [
      "Couldn't process:  674\n",
      "Couldn't process:  675\n",
      "Couldn't process:  676\n",
      "Couldn't process:  677\n",
      "Couldn't process:  678\n"
     ]
    },
    {
     "name": "stderr",
     "output_type": "stream",
     "text": [
      "683it [00:55, 20.19it/s]"
     ]
    },
    {
     "name": "stdout",
     "output_type": "stream",
     "text": [
      "Couldn't process:  679\n",
      "Couldn't process:  680\n",
      "Couldn't process:  681\n",
      "Couldn't process:  682\n",
      "Couldn't process:  683\n"
     ]
    },
    {
     "name": "stderr",
     "output_type": "stream",
     "text": [
      "\r",
      "686it [00:56, 20.51it/s]"
     ]
    },
    {
     "name": "stdout",
     "output_type": "stream",
     "text": [
      "Couldn't process:  684\n",
      "Couldn't process:  685\n",
      "Couldn't process:  686\n",
      "Couldn't process:  687\n",
      "Couldn't process:  688\n"
     ]
    },
    {
     "name": "stderr",
     "output_type": "stream",
     "text": [
      "692it [00:56, 20.55it/s]"
     ]
    },
    {
     "name": "stdout",
     "output_type": "stream",
     "text": [
      "Couldn't process:  689\n",
      "Couldn't process:  690\n",
      "Couldn't process:  691\n",
      "Couldn't process:  692\n",
      "Couldn't process:  693\n"
     ]
    },
    {
     "name": "stderr",
     "output_type": "stream",
     "text": [
      "698it [00:56, 20.82it/s]"
     ]
    },
    {
     "name": "stdout",
     "output_type": "stream",
     "text": [
      "Couldn't process:  694\n",
      "Couldn't process:  695\n",
      "Couldn't process:  696\n",
      "Couldn't process:  697\n",
      "Couldn't process:  698\n"
     ]
    },
    {
     "name": "stderr",
     "output_type": "stream",
     "text": [
      "\r",
      "701it [00:56, 20.80it/s]"
     ]
    },
    {
     "name": "stdout",
     "output_type": "stream",
     "text": [
      "Couldn't process:  699\n",
      "Couldn't process:  700\n",
      "Couldn't process:  701\n",
      "Couldn't process:  702\n",
      "Couldn't process:  703\n"
     ]
    },
    {
     "name": "stderr",
     "output_type": "stream",
     "text": [
      "707it [00:57, 20.44it/s]"
     ]
    },
    {
     "name": "stdout",
     "output_type": "stream",
     "text": [
      "Couldn't process:  704\n",
      "Couldn't process:  705\n",
      "Couldn't process:  706\n",
      "Couldn't process:  707\n",
      "Couldn't process:  708\n"
     ]
    },
    {
     "name": "stderr",
     "output_type": "stream",
     "text": [
      "713it [00:57, 20.54it/s]"
     ]
    },
    {
     "name": "stdout",
     "output_type": "stream",
     "text": [
      "Couldn't process:  709\n",
      "Couldn't process:  710\n",
      "Couldn't process:  711\n",
      "Couldn't process:  712\n",
      "Couldn't process:  713\n"
     ]
    },
    {
     "name": "stderr",
     "output_type": "stream",
     "text": [
      "\r",
      "716it [00:57, 20.69it/s]"
     ]
    },
    {
     "name": "stdout",
     "output_type": "stream",
     "text": [
      "Couldn't process:  714\n",
      "Couldn't process:  715\n",
      "Couldn't process:  716\n",
      "Couldn't process:  717\n",
      "Couldn't process:  718\n"
     ]
    },
    {
     "name": "stderr",
     "output_type": "stream",
     "text": [
      "722it [00:57, 20.82it/s]"
     ]
    },
    {
     "name": "stdout",
     "output_type": "stream",
     "text": [
      "Couldn't process:  719\n",
      "Couldn't process:  720\n",
      "Couldn't process:  721\n",
      "Couldn't process:  722\n",
      "Couldn't process:  723\n"
     ]
    },
    {
     "name": "stderr",
     "output_type": "stream",
     "text": [
      "728it [00:58, 21.06it/s]"
     ]
    },
    {
     "name": "stdout",
     "output_type": "stream",
     "text": [
      "Couldn't process:  724\n",
      "Couldn't process:  725\n",
      "Couldn't process:  726\n",
      "Couldn't process:  727\n",
      "Couldn't process:  728\n"
     ]
    },
    {
     "name": "stderr",
     "output_type": "stream",
     "text": [
      "\r",
      "731it [00:58, 20.92it/s]"
     ]
    },
    {
     "name": "stdout",
     "output_type": "stream",
     "text": [
      "Couldn't process:  729\n",
      "Couldn't process:  730\n",
      "Couldn't process:  731\n",
      "Couldn't process:  732\n",
      "Couldn't process:  733\n"
     ]
    },
    {
     "name": "stderr",
     "output_type": "stream",
     "text": [
      "737it [00:58, 21.15it/s]"
     ]
    },
    {
     "name": "stdout",
     "output_type": "stream",
     "text": [
      "Couldn't process:  734\n",
      "Couldn't process:  735\n",
      "Couldn't process:  736\n",
      "Couldn't process:  737\n",
      "Couldn't process:  738\n"
     ]
    },
    {
     "name": "stderr",
     "output_type": "stream",
     "text": [
      "743it [00:58, 21.31it/s]"
     ]
    },
    {
     "name": "stdout",
     "output_type": "stream",
     "text": [
      "Couldn't process:  739\n",
      "Couldn't process:  740\n",
      "Couldn't process:  741\n",
      "Couldn't process:  742\n",
      "Couldn't process:  743\n"
     ]
    },
    {
     "name": "stderr",
     "output_type": "stream",
     "text": [
      "\r",
      "746it [00:58, 21.33it/s]"
     ]
    },
    {
     "name": "stdout",
     "output_type": "stream",
     "text": [
      "Couldn't process:  744\n",
      "Couldn't process:  745\n",
      "Couldn't process:  746\n",
      "Couldn't process:  747\n",
      "Couldn't process:  748\n"
     ]
    },
    {
     "name": "stderr",
     "output_type": "stream",
     "text": [
      "752it [00:59, 21.25it/s]"
     ]
    },
    {
     "name": "stdout",
     "output_type": "stream",
     "text": [
      "Couldn't process:  749\n",
      "Couldn't process:  750\n",
      "Couldn't process:  751\n",
      "Couldn't process:  752\n",
      "Couldn't process:  753\n"
     ]
    },
    {
     "name": "stderr",
     "output_type": "stream",
     "text": [
      "758it [00:59, 21.16it/s]"
     ]
    },
    {
     "name": "stdout",
     "output_type": "stream",
     "text": [
      "Couldn't process:  754\n",
      "Couldn't process:  755\n",
      "Couldn't process:  756\n",
      "Couldn't process:  757\n",
      "Couldn't process:  758\n"
     ]
    },
    {
     "name": "stderr",
     "output_type": "stream",
     "text": [
      "\r",
      "761it [00:59, 21.06it/s]"
     ]
    },
    {
     "name": "stdout",
     "output_type": "stream",
     "text": [
      "Couldn't process:  759\n",
      "Couldn't process:  760\n",
      "Couldn't process:  761\n",
      "Couldn't process:  762\n",
      "Couldn't process:  763\n"
     ]
    },
    {
     "name": "stderr",
     "output_type": "stream",
     "text": [
      "767it [00:59, 21.13it/s]"
     ]
    },
    {
     "name": "stdout",
     "output_type": "stream",
     "text": [
      "Couldn't process:  764\n",
      "Couldn't process:  765\n",
      "Couldn't process:  766\n",
      "Couldn't process:  767\n",
      "Couldn't process:  768\n"
     ]
    },
    {
     "name": "stderr",
     "output_type": "stream",
     "text": [
      "773it [01:00, 20.73it/s]"
     ]
    },
    {
     "name": "stdout",
     "output_type": "stream",
     "text": [
      "Couldn't process:  769\n",
      "Couldn't process:  770\n",
      "Couldn't process:  771\n",
      "Couldn't process:  772\n",
      "Couldn't process:  773\n"
     ]
    },
    {
     "name": "stderr",
     "output_type": "stream",
     "text": [
      "\r",
      "776it [01:00, 20.82it/s]"
     ]
    },
    {
     "name": "stdout",
     "output_type": "stream",
     "text": [
      "Couldn't process:  774\n",
      "Couldn't process:  775\n",
      "Couldn't process:  776\n",
      "Couldn't process:  777\n",
      "Couldn't process:  778\n"
     ]
    },
    {
     "name": "stderr",
     "output_type": "stream",
     "text": [
      "782it [01:00, 20.85it/s]"
     ]
    },
    {
     "name": "stdout",
     "output_type": "stream",
     "text": [
      "Couldn't process:  779\n",
      "Couldn't process:  780\n",
      "Couldn't process:  781\n",
      "Couldn't process:  782\n",
      "Couldn't process:  783\n"
     ]
    },
    {
     "name": "stderr",
     "output_type": "stream",
     "text": [
      "788it [01:00, 20.50it/s]"
     ]
    },
    {
     "name": "stdout",
     "output_type": "stream",
     "text": [
      "Couldn't process:  784\n",
      "Couldn't process:  785\n",
      "Couldn't process:  786\n",
      "Couldn't process:  787\n",
      "Couldn't process:  788\n"
     ]
    },
    {
     "name": "stderr",
     "output_type": "stream",
     "text": [
      "\r",
      "791it [01:01, 20.59it/s]"
     ]
    },
    {
     "name": "stdout",
     "output_type": "stream",
     "text": [
      "Couldn't process:  789\n",
      "Couldn't process:  790\n",
      "Couldn't process:  791\n",
      "Couldn't process:  792\n",
      "Couldn't process:  793\n"
     ]
    },
    {
     "name": "stderr",
     "output_type": "stream",
     "text": [
      "797it [01:01, 20.44it/s]"
     ]
    },
    {
     "name": "stdout",
     "output_type": "stream",
     "text": [
      "Couldn't process:  794\n",
      "Couldn't process:  795\n",
      "Couldn't process:  796\n",
      "Couldn't process:  797\n",
      "Couldn't process:  798\n"
     ]
    },
    {
     "name": "stderr",
     "output_type": "stream",
     "text": [
      "800it [01:01, 13.01it/s]"
     ]
    },
    {
     "name": "stdout",
     "output_type": "stream",
     "text": [
      "Couldn't process:  799\n",
      "Couldn't process:  800\n",
      "(15, 640, 128) (15,)\n"
     ]
    },
    {
     "name": "stderr",
     "output_type": "stream",
     "text": [
      "\n"
     ]
    }
   ],
   "source": [
    "X_test, y_test = create_array(df_test)\n",
    "\n",
    "print(X_test.shape, y_test.shape)"
   ]
  },
  {
   "cell_type": "code",
   "execution_count": 7,
   "id": "e376090d",
   "metadata": {},
   "outputs": [],
   "source": [
    "np.savez('../data/test_arr', X_test, y_test)"
   ]
  },
  {
   "cell_type": "code",
   "execution_count": null,
   "id": "5304c4c9",
   "metadata": {},
   "outputs": [
    {
     "name": "stdout",
     "output_type": "stream",
     "text": [
      "Currently processing:  100\n",
      "Couldn't process:  144\n"
     ]
    }
   ],
   "source": [
    "X_valid, y_valid = create_array(df_valid)"
   ]
  },
  {
   "cell_type": "code",
   "execution_count": null,
   "id": "3c178209",
   "metadata": {},
   "outputs": [],
   "source": [
    "np.savez('../data/valid_arr', X_valid, y_valid)"
   ]
  },
  {
   "cell_type": "code",
   "execution_count": null,
   "id": "a12ef17a",
   "metadata": {},
   "outputs": [],
   "source": [
    "def splitDataFrameIntoSmaller(df, chunkSize = 1600): \n",
    "    listOfDf = list()\n",
    "    numberChunks = len(df) // chunkSize + 1\n",
    "    for i in range(numberChunks):\n",
    "        listOfDf.append(df[i*chunkSize:(i+1)*chunkSize])\n",
    "    return listOfDf"
   ]
  },
  {
   "cell_type": "code",
   "execution_count": null,
   "id": "86836b6a",
   "metadata": {},
   "outputs": [],
   "source": [
    "listDf = splitDataFrameIntoSmaller(df_train)\n",
    "df1_train = listDf[0]\n",
    "df2_train = listDf[1]\n",
    "df3_train = listDf[2]\n",
    "df4_train = listDf[3]\n",
    "print(df1_train.shape, df2_train.shape, df3_train.shape, df4_train.shape)"
   ]
  },
  {
   "cell_type": "code",
   "execution_count": null,
   "id": "2769734d",
   "metadata": {},
   "outputs": [],
   "source": [
    "X_train1, y_train1 = create_array(df1_train)"
   ]
  },
  {
   "cell_type": "code",
   "execution_count": null,
   "id": "02aa029c",
   "metadata": {},
   "outputs": [],
   "source": [
    "np.savez('../data/train1_arr', X_train1, y_train1)"
   ]
  },
  {
   "cell_type": "code",
   "execution_count": null,
   "id": "2820f028",
   "metadata": {},
   "outputs": [],
   "source": [
    "X_train2, y_train2 = create_array(df2_train)"
   ]
  },
  {
   "cell_type": "code",
   "execution_count": null,
   "id": "17e6c328",
   "metadata": {},
   "outputs": [],
   "source": [
    "np.savez('../data/train2_arr', X_train2, y_train2)"
   ]
  },
  {
   "cell_type": "code",
   "execution_count": null,
   "id": "b2c7eae6",
   "metadata": {},
   "outputs": [],
   "source": [
    "X_train3, y_train3 = create_array(df3_train)"
   ]
  },
  {
   "cell_type": "code",
   "execution_count": null,
   "id": "1109456a",
   "metadata": {},
   "outputs": [],
   "source": [
    "np.savez('../data/train3_arr', X_train3, y_train3)"
   ]
  },
  {
   "cell_type": "code",
   "execution_count": null,
   "id": "46f0cc3e",
   "metadata": {},
   "outputs": [],
   "source": [
    "X_train4, y_train4 = create_array(df4_train)"
   ]
  },
  {
   "cell_type": "code",
   "execution_count": null,
   "id": "9aab1765",
   "metadata": {},
   "outputs": [],
   "source": [
    "np.savez('../data/train4_arr', X_train4, y_train4)"
   ]
  },
  {
   "source": [
    "# Consolidate train files and shuffle train/validation splits"
   ],
   "cell_type": "markdown",
   "metadata": {}
  },
  {
   "cell_type": "code",
   "execution_count": null,
   "id": "6eece010",
   "metadata": {},
   "outputs": [],
   "source": [
    "npzfile = np.load('../data/train1_arr.npz')\n",
    "print(npzfile.files)\n",
    "X_train1 = npzfile['arr_0']\n",
    "y_train1 = npzfile['arr_1']\n",
    "print(X_train1.shape, y_train1.shape)"
   ]
  },
  {
   "cell_type": "code",
   "execution_count": null,
   "id": "26f11522",
   "metadata": {},
   "outputs": [],
   "source": [
    "npzfile = np.load('../data/train2_arr.npz')\n",
    "print(npzfile.files)\n",
    "X_train2 = npzfile['arr_0']\n",
    "y_train2 = npzfile['arr_1']\n",
    "print(X_train2.shape, y_train2.shape)"
   ]
  },
  {
   "cell_type": "code",
   "execution_count": null,
   "id": "b1e9daf8",
   "metadata": {},
   "outputs": [],
   "source": [
    "npzfile = np.load('../data/train3_arr.npz')\n",
    "print(npzfile.files)\n",
    "X_train3 = npzfile['arr_0']\n",
    "y_train3 = npzfile['arr_1']\n",
    "print(X_train3.shape, y_train3.shape)"
   ]
  },
  {
   "cell_type": "code",
   "execution_count": null,
   "id": "38643d85",
   "metadata": {},
   "outputs": [],
   "source": [
    "npzfile = np.load('../data/train4_arr.npz')\n",
    "print(npzfile.files)\n",
    "X_train4 = npzfile['arr_0']\n",
    "y_train4 = npzfile['arr_1']\n",
    "print(X_train4.shape, y_train4.shape)"
   ]
  },
  {
   "cell_type": "code",
   "execution_count": null,
   "id": "d6c709db",
   "metadata": {},
   "outputs": [],
   "source": [
    "npzfile = np.load('../data/valid_arr.npz')\n",
    "print(npzfile.files)\n",
    "X_valid = npzfile['arr_0']\n",
    "y_valid = npzfile['arr_1']\n",
    "print(X_valid.shape, y_valid.shape)"
   ]
  },
  {
   "cell_type": "code",
   "execution_count": null,
   "id": "fbedc0c7",
   "metadata": {},
   "outputs": [],
   "source": [
    "X_train = np.concatenate((X_train1, X_train2, X_train3, X_train4), axis = 0)\n",
    "y_train = np.concatenate((y_train1, y_train2, y_train3, y_train4), axis = 0)\n",
    "print(X_train.shape, y_train.shape)"
   ]
  },
  {
   "cell_type": "code",
   "execution_count": null,
   "id": "b9203688",
   "metadata": {},
   "outputs": [],
   "source": [
    "### Convert the scale of training data\n",
    "X_train_raw = librosa.core.db_to_power(X_train, ref=1.0)\n",
    "print(np.amin(X_train_raw), np.amax(X_train_raw), np.mean(X_train_raw))"
   ]
  },
  {
   "cell_type": "code",
   "execution_count": null,
   "id": "76f630c9",
   "metadata": {},
   "outputs": [],
   "source": [
    "X_train_log = np.log(X_train_raw)\n",
    "print(np.amin(X_train_log), np.amax(X_train_log), np.mean(X_train_log))"
   ]
  },
  {
   "cell_type": "code",
   "execution_count": null,
   "id": "7aa24bf0",
   "metadata": {},
   "outputs": [],
   "source": [
    "X_valid_raw = librosa.core.db_to_power(X_valid, ref=1.0)\n",
    "X_valid_log = np.log(X_valid_raw)"
   ]
  },
  {
   "cell_type": "code",
   "execution_count": null,
   "id": "593ca812",
   "metadata": {},
   "outputs": [],
   "source": [
    "def unison_shuffled_copies(a, b):\n",
    "    assert len(a) == len(b)\n",
    "    p = np.random.permutation(len(a))\n",
    "    return a[p], b[p]\n",
    "\n",
    "X_train, y_train = unison_shuffled_copies(X_train_log, y_train)\n",
    "X_valid, y_valid = unison_shuffled_copies(X_valid_log, y_valid)"
   ]
  },
  {
   "cell_type": "code",
   "execution_count": null,
   "id": "b4f73a85",
   "metadata": {},
   "outputs": [],
   "source": [
    "print(\"Shapes are: \", X_train.shape, X_valid.shape, y_train.shape, y_valid.shape)"
   ]
  },
  {
   "cell_type": "code",
   "execution_count": null,
   "id": "1c63751d",
   "metadata": {},
   "outputs": [],
   "source": [
    "np.savez('../data/shuffled_train', X_train, y_train)\n",
    "np.savez('../data/shuffled_valid', X_valid, y_valid)"
   ]
  }
 ],
 "metadata": {
  "kernelspec": {
   "display_name": "Python 3",
   "language": "python",
   "name": "python3"
  },
  "language_info": {
   "codemirror_mode": {
    "name": "ipython",
    "version": 3
   },
   "file_extension": ".py",
   "mimetype": "text/x-python",
   "name": "python",
   "nbconvert_exporter": "python",
   "pygments_lexer": "ipython3",
   "version": "3.7.9"
  }
 },
 "nbformat": 4,
 "nbformat_minor": 5
}