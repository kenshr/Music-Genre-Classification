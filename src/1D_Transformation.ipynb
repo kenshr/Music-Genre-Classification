{
 "cells": [
  {
   "cell_type": "code",
   "execution_count": 2,
   "metadata": {},
   "outputs": [],
   "source": [
    "import numpy as np\n",
    "import librosa\n",
    "import librosa.display"
   ]
  },
  {
   "cell_type": "code",
   "execution_count": 3,
   "metadata": {},
   "outputs": [],
   "source": [
    "npz_train = np.load('../data/shuffled_train.npz')\n",
    "X_train = npz_train['arr_0']\n",
    "y_train = npz_train['arr_1']"
   ]
  },
  {
   "cell_type": "code",
   "execution_count": 57,
   "metadata": {},
   "outputs": [],
   "source": [
    "npz_val = np.load('../data/shuffled_valid.npz')\n",
    "X_val = npz_val['arr_0']\n",
    "y_val = npz_val['arr_1']"
   ]
  },
  {
   "cell_type": "code",
   "execution_count": 58,
   "metadata": {},
   "outputs": [],
   "source": [
    "npz_test = np.load('../data/test_arr_fixed.npz')\n",
    "X_test = npz_test['arr_0']\n",
    "y_test = npz_test['arr_1']"
   ]
  },
  {
   "cell_type": "code",
   "execution_count": 11,
   "metadata": {},
   "outputs": [
    {
     "data": {
      "text/plain": [
       "(6394, 640, 128)"
      ]
     },
     "execution_count": 11,
     "metadata": {},
     "output_type": "execute_result"
    }
   ],
   "source": [
    "X_train.shape"
   ]
  },
  {
   "cell_type": "code",
   "execution_count": 8,
   "metadata": {},
   "outputs": [
    {
     "data": {
      "text/plain": [
       "array([[ -9.59137049,  -8.62536233,  -9.23773926, ..., -18.42068074,\n",
       "        -18.42068074, -18.42068074],\n",
       "       [-13.04471935, -10.19199927,  -9.54792385, ..., -18.42068074,\n",
       "        -18.42068074, -18.42068074],\n",
       "       [-10.94710548,  -7.92231866,  -6.78897905, ..., -18.42068074,\n",
       "        -18.42068074, -18.42068074],\n",
       "       ...,\n",
       "       [-11.30250047,  -7.20248809,  -4.08692604, ..., -18.42068074,\n",
       "        -18.42068074, -18.42068074],\n",
       "       [-11.9898653 ,  -7.66988579,  -4.55292319, ..., -18.42068074,\n",
       "        -18.42068074, -18.42068074],\n",
       "       [-10.99908633,  -8.46131773,  -5.36056011, ..., -18.42068074,\n",
       "        -18.42068074, -18.42068074]])"
      ]
     },
     "execution_count": 8,
     "metadata": {},
     "output_type": "execute_result"
    }
   ],
   "source": [
    "X_train[0]"
   ]
  },
  {
   "cell_type": "code",
   "execution_count": 67,
   "metadata": {},
   "outputs": [
    {
     "data": {
      "text/plain": [
       "(6394, 640, 128)"
      ]
     },
     "execution_count": 67,
     "metadata": {},
     "output_type": "execute_result"
    }
   ],
   "source": [
    "X_train[:,:,:].shape"
   ]
  },
  {
   "cell_type": "code",
   "execution_count": 4,
   "metadata": {},
   "outputs": [],
   "source": [
    "def freq_band_splitter(spect_arr):\n",
    "    # Collect frequency ranges\n",
    "    sub_bass = spect_arr[:,:,:2]\n",
    "    bass = spect_arr[:,:,2:6]\n",
    "    lower_midrange = spect_arr[:,:,6:12]\n",
    "    midrange = spect_arr[:,:,12:48]\n",
    "    higher_midrange = spect_arr[:,:,48:96]\n",
    "    presence = spect_arr[:,:,96:112]\n",
    "    harmonics = spect_arr[:,:,112:128]\n",
    "    \n",
    "    # Flatten ranges vertically (get average\n",
    "    # frequency per time) for all spectrograms\n",
    "    sub_bass = sub_bass.mean(axis=2)\n",
    "    bass = bass.mean(axis=2)\n",
    "    lower_midrange = lower_midrange.mean(axis=2)\n",
    "    midrange = midrange.mean(axis=2)\n",
    "    higher_midrange = higher_midrange.mean(axis=2)\n",
    "    presence = presence.mean(axis=2)\n",
    "    harmonics = harmonics.mean(axis=2)\n",
    "    \n",
    "    return np.dstack((sub_bass, bass, lower_midrange, midrange,\n",
    "                      higher_midrange, presence, harmonics))"
   ]
  },
  {
   "cell_type": "code",
   "execution_count": 62,
   "metadata": {},
   "outputs": [],
   "source": [
    "X_train_split = freq_band_splitter(X_train)\n",
    "X_val_split = freq_band_splitter(X_val)\n",
    "X_test_split = freq_band_splitter(X_test)"
   ]
  },
  {
   "cell_type": "code",
   "execution_count": 63,
   "metadata": {},
   "outputs": [
    {
     "name": "stdout",
     "output_type": "stream",
     "text": [
      "(6394, 640, 7)\n",
      "(800, 640, 7)\n",
      "(800, 640, 7)\n"
     ]
    }
   ],
   "source": [
    "print(X_train_split.shape)\n",
    "print(X_val_split.shape)\n",
    "print(X_test_split.shape)"
   ]
  },
  {
   "cell_type": "code",
   "execution_count": 64,
   "metadata": {},
   "outputs": [],
   "source": [
    "np.savez('../data/shuffled_1D_train', X_train_split, y_train)"
   ]
  },
  {
   "cell_type": "code",
   "execution_count": 65,
   "metadata": {},
   "outputs": [],
   "source": [
    "np.savez('../data/shuffled_1D_valid', X_val_split, y_val)"
   ]
  },
  {
   "cell_type": "code",
   "execution_count": 66,
   "metadata": {},
   "outputs": [],
   "source": [
    "np.savez('../data/1D_test_arr_fixed.npz', X_test_split, y_test)"
   ]
  },
  {
   "cell_type": "code",
   "execution_count": null,
   "metadata": {},
   "outputs": [],
   "source": []
  }
 ],
 "metadata": {
  "kernelspec": {
   "display_name": "Python 3",
   "language": "python",
   "name": "python3"
  },
  "language_info": {
   "codemirror_mode": {
    "name": "ipython",
    "version": 3
   },
   "file_extension": ".py",
   "mimetype": "text/x-python",
   "name": "python",
   "nbconvert_exporter": "python",
   "pygments_lexer": "ipython3",
   "version": "3.8.5"
  }
 },
 "nbformat": 4,
 "nbformat_minor": 4
}
