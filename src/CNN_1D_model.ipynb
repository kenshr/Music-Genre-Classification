{
 "cells": [
  {
   "cell_type": "code",
   "execution_count": 82,
   "metadata": {},
   "outputs": [],
   "source": [
    "from tensorflow import keras\n",
    "from tensorflow.keras import metrics, regularizers\n",
    "from tensorflow.keras.models import Sequential, load_model\n",
    "from tensorflow.keras.layers import Conv1D, BatchNormalization, MaxPooling1D, LSTM\n",
    "from tensorflow.keras.layers import GlobalAveragePooling1D, Flatten\n",
    "from tensorflow.keras.layers import Dense, Activation, Dropout\n",
    "from tensorflow.keras.callbacks import EarlyStopping, ModelCheckpoint\n",
    "\n",
    "from sklearn.metrics import confusion_matrix\n",
    "\n",
    "import numpy as np\n",
    "import matplotlib.pyplot as plt\n",
    "\n",
    "%matplotlib inline"
   ]
  },
  {
   "cell_type": "code",
   "execution_count": 88,
   "metadata": {},
   "outputs": [],
   "source": [
    "train_file = np.load('../data/shuffled_1D_train.npz')\n",
    "X_train = train_file['arr_0']\n",
    "y_train = train_file['arr_1']\n",
    "\n",
    "val_file = np.load('../data/shuffled_1D_valid.npz')\n",
    "X_val = val_file['arr_0']\n",
    "y_val = val_file['arr_1']\n",
    "\n",
    "test_file = np.load('../data/1D_test_arr_fixed.npz')\n",
    "X_test = test_file['arr_0']\n",
    "y_test = test_file['arr_1']"
   ]
  },
  {
   "cell_type": "code",
   "execution_count": 90,
   "metadata": {},
   "outputs": [],
   "source": [
    "num_classes = 8\n",
    "y_train = keras.utils.to_categorical(y_train, num_classes)\n",
    "y_val = keras.utils.to_categorical(y_val, num_classes)\n",
    "y_test = keras.utils.to_categorical(y_test, num_classes)"
   ]
  },
  {
   "cell_type": "code",
   "execution_count": 4,
   "metadata": {},
   "outputs": [
    {
     "name": "stdout",
     "output_type": "stream",
     "text": [
      "(6394, 640, 7)\n",
      "(800, 640, 7)\n",
      "(800, 640, 7)\n"
     ]
    }
   ],
   "source": [
    "print(X_train.shape)\n",
    "print(X_val.shape)\n",
    "print(X_test.shape)"
   ]
  },
  {
   "cell_type": "markdown",
   "metadata": {},
   "source": [
    "# 1D CNN model"
   ]
  },
  {
   "cell_type": "code",
   "execution_count": 67,
   "metadata": {},
   "outputs": [
    {
     "name": "stdout",
     "output_type": "stream",
     "text": [
      "Epoch 1/50\n",
      "100/100 [==============================] - 13s 127ms/step - loss: 1.9995 - accuracy: 0.3306 - val_loss: 8.4362 - val_accuracy: 0.1375\n",
      "Epoch 2/50\n",
      "100/100 [==============================] - 12s 124ms/step - loss: 1.7167 - accuracy: 0.3703 - val_loss: 4.9785 - val_accuracy: 0.1450\n",
      "Epoch 3/50\n",
      "100/100 [==============================] - 12s 124ms/step - loss: 1.6459 - accuracy: 0.4010 - val_loss: 2.9252 - val_accuracy: 0.2488\n",
      "Epoch 4/50\n",
      "100/100 [==============================] - 12s 123ms/step - loss: 1.6280 - accuracy: 0.4187 - val_loss: 4.6804 - val_accuracy: 0.2225\n",
      "Epoch 5/50\n",
      "100/100 [==============================] - 13s 127ms/step - loss: 1.5788 - accuracy: 0.4371 - val_loss: 5.7862 - val_accuracy: 0.1525\n",
      "Epoch 6/50\n",
      "100/100 [==============================] - 13s 126ms/step - loss: 1.5142 - accuracy: 0.4606 - val_loss: 5.8950 - val_accuracy: 0.1725\n",
      "Epoch 7/50\n",
      "100/100 [==============================] - 13s 128ms/step - loss: 1.5016 - accuracy: 0.4700 - val_loss: 3.1382 - val_accuracy: 0.2212\n",
      "Epoch 8/50\n",
      "100/100 [==============================] - 12s 124ms/step - loss: 1.4446 - accuracy: 0.4873 - val_loss: 3.3367 - val_accuracy: 0.1887\n",
      "Epoch 9/50\n",
      "100/100 [==============================] - 12s 123ms/step - loss: 1.4279 - accuracy: 0.4970 - val_loss: 4.4230 - val_accuracy: 0.1713\n",
      "Epoch 10/50\n",
      "100/100 [==============================] - 12s 124ms/step - loss: 1.3021 - accuracy: 0.5466 - val_loss: 3.3686 - val_accuracy: 0.2037\n",
      "Epoch 11/50\n",
      "100/100 [==============================] - 12s 124ms/step - loss: 1.2301 - accuracy: 0.5663 - val_loss: 9.9100 - val_accuracy: 0.1325\n",
      "Epoch 12/50\n",
      "100/100 [==============================] - 12s 125ms/step - loss: 1.1352 - accuracy: 0.6056 - val_loss: 6.9781 - val_accuracy: 0.1300\n",
      "Epoch 13/50\n",
      "100/100 [==============================] - 12s 123ms/step - loss: 0.9879 - accuracy: 0.6605 - val_loss: 5.7797 - val_accuracy: 0.1400\n",
      "Epoch 14/50\n",
      "100/100 [==============================] - 12s 124ms/step - loss: 0.7557 - accuracy: 0.7434 - val_loss: 6.5716 - val_accuracy: 0.1200\n",
      "Epoch 15/50\n",
      "100/100 [==============================] - 12s 123ms/step - loss: 0.5676 - accuracy: 0.8095 - val_loss: 3.3287 - val_accuracy: 0.2800\n",
      "Epoch 16/50\n",
      "100/100 [==============================] - 12s 124ms/step - loss: 0.3777 - accuracy: 0.8788 - val_loss: 3.1396 - val_accuracy: 0.2338\n",
      "Epoch 17/50\n",
      "100/100 [==============================] - 12s 123ms/step - loss: 0.2347 - accuracy: 0.9285 - val_loss: 2.7683 - val_accuracy: 0.2937\n",
      "Epoch 18/50\n",
      "100/100 [==============================] - 12s 125ms/step - loss: 0.1735 - accuracy: 0.9510 - val_loss: 3.8189 - val_accuracy: 0.2500\n",
      "Epoch 19/50\n",
      "100/100 [==============================] - 12s 123ms/step - loss: 0.1433 - accuracy: 0.9612 - val_loss: 2.9790 - val_accuracy: 0.3600\n",
      "Epoch 20/50\n",
      "100/100 [==============================] - 13s 125ms/step - loss: 0.0870 - accuracy: 0.9798 - val_loss: 2.7914 - val_accuracy: 0.3800\n",
      "Epoch 21/50\n",
      "100/100 [==============================] - 12s 124ms/step - loss: 0.0391 - accuracy: 0.9926 - val_loss: 3.0884 - val_accuracy: 0.3638\n",
      "Epoch 22/50\n",
      "100/100 [==============================] - 12s 124ms/step - loss: 0.0212 - accuracy: 0.9972 - val_loss: 3.1927 - val_accuracy: 0.3288\n",
      "Epoch 23/50\n",
      "100/100 [==============================] - 12s 124ms/step - loss: 0.0181 - accuracy: 0.9981 - val_loss: 3.6226 - val_accuracy: 0.3525\n",
      "Epoch 24/50\n",
      "100/100 [==============================] - 12s 125ms/step - loss: 0.0195 - accuracy: 0.9972 - val_loss: 3.8741 - val_accuracy: 0.3075\n",
      "Epoch 25/50\n",
      "100/100 [==============================] - 12s 125ms/step - loss: 0.0126 - accuracy: 0.9987 - val_loss: 3.6473 - val_accuracy: 0.2688\n",
      "Epoch 26/50\n",
      "100/100 [==============================] - 12s 125ms/step - loss: 0.0066 - accuracy: 0.9994 - val_loss: 3.3628 - val_accuracy: 0.3550\n",
      "Epoch 27/50\n",
      "100/100 [==============================] - 12s 124ms/step - loss: 0.0042 - accuracy: 0.9995 - val_loss: 3.3733 - val_accuracy: 0.3450\n",
      "Epoch 28/50\n",
      "100/100 [==============================] - 12s 125ms/step - loss: 0.0033 - accuracy: 0.9998 - val_loss: 3.3999 - val_accuracy: 0.3462\n",
      "Epoch 29/50\n",
      "100/100 [==============================] - 12s 124ms/step - loss: 0.0018 - accuracy: 0.9998 - val_loss: 3.2758 - val_accuracy: 0.3725\n",
      "Epoch 30/50\n",
      "100/100 [==============================] - 12s 124ms/step - loss: 0.0022 - accuracy: 0.9998 - val_loss: 3.3939 - val_accuracy: 0.3638\n",
      "Epoch 31/50\n",
      "100/100 [==============================] - 12s 124ms/step - loss: 0.0030 - accuracy: 0.9997 - val_loss: 3.3487 - val_accuracy: 0.3663\n",
      "Epoch 32/50\n",
      "100/100 [==============================] - 12s 125ms/step - loss: 0.0022 - accuracy: 0.9997 - val_loss: 3.3737 - val_accuracy: 0.3575\n",
      "Epoch 33/50\n",
      "100/100 [==============================] - 12s 124ms/step - loss: 0.0017 - accuracy: 0.9998 - val_loss: 3.3990 - val_accuracy: 0.3862\n",
      "Epoch 34/50\n",
      "100/100 [==============================] - 12s 124ms/step - loss: 0.0014 - accuracy: 0.9998 - val_loss: 3.4158 - val_accuracy: 0.3625\n",
      "Epoch 35/50\n",
      "100/100 [==============================] - 12s 124ms/step - loss: 0.0036 - accuracy: 0.9994 - val_loss: 4.3045 - val_accuracy: 0.2825\n",
      "Epoch 36/50\n",
      "100/100 [==============================] - 12s 125ms/step - loss: 0.0084 - accuracy: 0.9994 - val_loss: 3.9009 - val_accuracy: 0.2738\n",
      "Epoch 37/50\n",
      "100/100 [==============================] - 12s 124ms/step - loss: 0.0650 - accuracy: 0.9812 - val_loss: 5.3113 - val_accuracy: 0.2912\n",
      "Epoch 38/50\n",
      "100/100 [==============================] - 12s 124ms/step - loss: 0.9214 - accuracy: 0.7057 - val_loss: 5.5813 - val_accuracy: 0.1825\n",
      "Epoch 39/50\n",
      "100/100 [==============================] - 12s 124ms/step - loss: 0.3998 - accuracy: 0.8633 - val_loss: 4.7449 - val_accuracy: 0.3250\n",
      "Epoch 40/50\n",
      "100/100 [==============================] - 12s 124ms/step - loss: 0.1340 - accuracy: 0.9600 - val_loss: 2.9595 - val_accuracy: 0.3625\n",
      "Epoch 41/50\n",
      "100/100 [==============================] - 12s 124ms/step - loss: 0.0479 - accuracy: 0.9875 - val_loss: 3.6778 - val_accuracy: 0.3063\n",
      "Epoch 42/50\n",
      "100/100 [==============================] - 12s 124ms/step - loss: 0.0253 - accuracy: 0.9947 - val_loss: 3.4813 - val_accuracy: 0.3787\n",
      "Epoch 43/50\n",
      "100/100 [==============================] - 12s 124ms/step - loss: 0.0124 - accuracy: 0.9987 - val_loss: 3.7010 - val_accuracy: 0.3338\n",
      "Epoch 44/50\n",
      "100/100 [==============================] - 12s 125ms/step - loss: 0.0101 - accuracy: 0.9984 - val_loss: 4.0305 - val_accuracy: 0.3375\n",
      "Epoch 45/50\n",
      "100/100 [==============================] - 13s 125ms/step - loss: 0.0068 - accuracy: 0.9992 - val_loss: 3.4777 - val_accuracy: 0.3775\n",
      "Epoch 46/50\n",
      "100/100 [==============================] - 12s 124ms/step - loss: 0.0051 - accuracy: 0.9994 - val_loss: 3.4318 - val_accuracy: 0.4125\n",
      "Epoch 47/50\n",
      "100/100 [==============================] - 12s 125ms/step - loss: 0.0047 - accuracy: 0.9994 - val_loss: 3.5020 - val_accuracy: 0.3800\n",
      "Epoch 48/50\n",
      "100/100 [==============================] - 12s 125ms/step - loss: 0.0027 - accuracy: 0.9998 - val_loss: 3.5472 - val_accuracy: 0.4212\n",
      "Epoch 49/50\n",
      "100/100 [==============================] - 12s 124ms/step - loss: 0.0039 - accuracy: 0.9995 - val_loss: 3.4941 - val_accuracy: 0.4062\n",
      "Epoch 50/50\n",
      "100/100 [==============================] - 12s 124ms/step - loss: 0.0032 - accuracy: 0.9997 - val_loss: 3.6872 - val_accuracy: 0.3812\n"
     ]
    },
    {
     "data": {
      "text/plain": [
       "<tensorflow.python.keras.callbacks.History at 0x7f8198879eb0>"
      ]
     },
     "execution_count": 67,
     "metadata": {},
     "output_type": "execute_result"
    }
   ],
   "source": [
    "model = Sequential()\n",
    "\n",
    "model.add(Conv1D(128,40, activation='relu', input_shape=(640, 7)))\n",
    "model.add(BatchNormalization())\n",
    "model.add(MaxPooling1D(pool_size=4))\n",
    "\n",
    "model.add(Conv1D(256,20, activation='relu'))\n",
    "model.add(BatchNormalization())\n",
    "model.add(MaxPooling1D(pool_size=4))\n",
    "\n",
    "model.add(Conv1D(512,20, activation='relu'))\n",
    "model.add(BatchNormalization())\n",
    "model.add(MaxPooling1D(pool_size=4))\n",
    "\n",
    "model.add(Flatten())\n",
    "model.add(Dense(8, activation='softmax', name='final'))\n",
    "model.compile(loss = keras.losses.categorical_crossentropy,\n",
    "    optimizer=keras.optimizers.Adam(),\n",
    "    metrics = ['accuracy']\n",
    ")\n",
    "\n",
    "model.fit(x=X_train, y=y_train,\n",
    "          batch_size=64,\n",
    "          epochs=50,\n",
    "          verbose=1,\n",
    "          validation_data=(X_val, y_val))"
   ]
  },
  {
   "cell_type": "code",
   "execution_count": 48,
   "metadata": {},
   "outputs": [
    {
     "name": "stdout",
     "output_type": "stream",
     "text": [
      "Model: \"sequential_21\"\n",
      "_________________________________________________________________\n",
      "Layer (type)                 Output Shape              Param #   \n",
      "=================================================================\n",
      "conv1d_31 (Conv1D)           (None, 601, 128)          35968     \n",
      "_________________________________________________________________\n",
      "batch_normalization_45 (Batc (None, 601, 128)          512       \n",
      "_________________________________________________________________\n",
      "max_pooling1d_23 (MaxPooling (None, 150, 128)          0         \n",
      "_________________________________________________________________\n",
      "conv1d_32 (Conv1D)           (None, 131, 256)          655616    \n",
      "_________________________________________________________________\n",
      "batch_normalization_46 (Batc (None, 131, 256)          1024      \n",
      "_________________________________________________________________\n",
      "max_pooling1d_24 (MaxPooling (None, 32, 256)           0         \n",
      "_________________________________________________________________\n",
      "conv1d_33 (Conv1D)           (None, 13, 512)           2621952   \n",
      "_________________________________________________________________\n",
      "batch_normalization_47 (Batc (None, 13, 512)           2048      \n",
      "_________________________________________________________________\n",
      "max_pooling1d_25 (MaxPooling (None, 3, 512)            0         \n",
      "_________________________________________________________________\n",
      "flatten_9 (Flatten)          (None, 1536)              0         \n",
      "_________________________________________________________________\n",
      "final (Dense)                (None, 8)                 12296     \n",
      "=================================================================\n",
      "Total params: 3,329,416\n",
      "Trainable params: 3,327,624\n",
      "Non-trainable params: 1,792\n",
      "_________________________________________________________________\n"
     ]
    }
   ],
   "source": [
    "model.summary()"
   ]
  },
  {
   "cell_type": "code",
   "execution_count": 80,
   "metadata": {},
   "outputs": [
    {
     "name": "stdout",
     "output_type": "stream",
     "text": [
      "WARNING:tensorflow:From /home/ubuntu/anaconda3/lib/python3.8/site-packages/tensorflow/python/ops/resource_variable_ops.py:1813: calling BaseResourceVariable.__init__ (from tensorflow.python.ops.resource_variable_ops) with constraint is deprecated and will be removed in a future version.\n",
      "Instructions for updating:\n",
      "If using Keras pass *_constraint arguments to layers.\n",
      "INFO:tensorflow:Assets written to: ../1D_CNN_model/assets\n"
     ]
    }
   ],
   "source": [
    "model.save('../1D_CNN_model/')"
   ]
  },
  {
   "cell_type": "code",
   "execution_count": 96,
   "metadata": {},
   "outputs": [
    {
     "name": "stdout",
     "output_type": "stream",
     "text": [
      "25/25 [==============================] - 0s 17ms/step - loss: 4.0636 - accuracy: 0.3313\n"
     ]
    },
    {
     "data": {
      "text/plain": [
       "[4.063586235046387, 0.33125001192092896]"
      ]
     },
     "execution_count": 96,
     "metadata": {},
     "output_type": "execute_result"
    }
   ],
   "source": [
    "saved_model = load_model('../1D_CNN_model/')\n",
    "saved_model.evaluate(X_test, y_test)"
   ]
  },
  {
   "cell_type": "code",
   "execution_count": 91,
   "metadata": {},
   "outputs": [
    {
     "data": {
      "text/plain": [
       "array([[35,  7,  8, 14, 13, 15,  5,  3],\n",
       "       [ 6, 21, 18,  3, 18, 11, 13, 10],\n",
       "       [ 1, 24, 16,  0, 16, 11, 11, 21],\n",
       "       [13,  4,  2, 64,  3,  4,  5,  5],\n",
       "       [ 7, 16, 27,  2, 31,  3,  6,  8],\n",
       "       [11,  5, 14,  6,  2, 25, 19, 18],\n",
       "       [10,  3, 13, 24,  9,  9, 22, 10],\n",
       "       [ 2, 13, 10,  0,  3,  4, 17, 51]])"
      ]
     },
     "execution_count": 91,
     "metadata": {},
     "output_type": "execute_result"
    }
   ],
   "source": [
    "y_pred = saved_model.predict(X_test)\n",
    "matrix = confusion_matrix(y_test.argmax(axis=1), y_pred.argmax(axis=1))\n",
    "matrix"
   ]
  },
  {
   "cell_type": "markdown",
   "metadata": {},
   "source": [
    "# 1D CNN-LSTM model"
   ]
  },
  {
   "cell_type": "code",
   "execution_count": 5,
   "metadata": {},
   "outputs": [],
   "source": [
    "# Establish callbacks\n",
    "early_stopping = EarlyStopping(monitor='val_accuracy', min_delta=0.01, patience=10, verbose=0, mode='max')\n",
    "model_checkpoint = ModelCheckpoint('../CNN_LSTM_model/', monitor='val_accuracy', verbose=0, save_best_only=True, mode='max')\n",
    "\n",
    "# Compiler parameters\n",
    "loss = keras.losses.categorical_crossentropy\n",
    "optimizer = keras.optimizers.Adam(learning_rate=0.00001)\n",
    "metrics=['accuracy']"
   ]
  },
  {
   "cell_type": "code",
   "execution_count": 7,
   "metadata": {},
   "outputs": [
    {
     "name": "stdout",
     "output_type": "stream",
     "text": [
      "Epoch 1/80\n",
      "100/100 [==============================] - 11s 108ms/step - loss: 7.2410 - accuracy: 0.3022 - val_loss: 7.2691 - val_accuracy: 0.1338\n",
      "Epoch 2/80\n",
      "100/100 [==============================] - 10s 103ms/step - loss: 6.9182 - accuracy: 0.3710 - val_loss: 7.0633 - val_accuracy: 0.2163\n",
      "Epoch 3/80\n",
      "100/100 [==============================] - 10s 103ms/step - loss: 6.7851 - accuracy: 0.3944 - val_loss: 6.8073 - val_accuracy: 0.3225\n",
      "Epoch 4/80\n",
      "100/100 [==============================] - 10s 103ms/step - loss: 6.7195 - accuracy: 0.3919 - val_loss: 6.6887 - val_accuracy: 0.3587\n",
      "Epoch 5/80\n",
      "100/100 [==============================] - 10s 103ms/step - loss: 6.6257 - accuracy: 0.4198 - val_loss: 6.5650 - val_accuracy: 0.3975\n",
      "Epoch 6/80\n",
      "100/100 [==============================] - 10s 102ms/step - loss: 6.5735 - accuracy: 0.4154 - val_loss: 6.5569 - val_accuracy: 0.3787\n",
      "Epoch 7/80\n",
      "100/100 [==============================] - 10s 103ms/step - loss: 6.4975 - accuracy: 0.4310 - val_loss: 6.4891 - val_accuracy: 0.4025\n",
      "Epoch 8/80\n",
      "100/100 [==============================] - 10s 104ms/step - loss: 6.4229 - accuracy: 0.4395 - val_loss: 6.4269 - val_accuracy: 0.4137\n",
      "Epoch 9/80\n",
      "100/100 [==============================] - 10s 105ms/step - loss: 6.3913 - accuracy: 0.4446 - val_loss: 6.3748 - val_accuracy: 0.4275\n",
      "Epoch 10/80\n",
      "100/100 [==============================] - 10s 104ms/step - loss: 6.3441 - accuracy: 0.4426 - val_loss: 6.3369 - val_accuracy: 0.4313\n",
      "Epoch 11/80\n",
      "100/100 [==============================] - 11s 106ms/step - loss: 6.3011 - accuracy: 0.4546 - val_loss: 6.3127 - val_accuracy: 0.4263\n",
      "Epoch 12/80\n",
      "100/100 [==============================] - 10s 102ms/step - loss: 6.2520 - accuracy: 0.4628 - val_loss: 6.2740 - val_accuracy: 0.4225\n",
      "Epoch 13/80\n",
      "100/100 [==============================] - 10s 102ms/step - loss: 6.2159 - accuracy: 0.4645 - val_loss: 6.2687 - val_accuracy: 0.4150\n",
      "Epoch 14/80\n",
      "100/100 [==============================] - 10s 102ms/step - loss: 6.1913 - accuracy: 0.4675 - val_loss: 6.2178 - val_accuracy: 0.4313\n",
      "Epoch 15/80\n",
      "100/100 [==============================] - 10s 101ms/step - loss: 6.1240 - accuracy: 0.4786 - val_loss: 6.2027 - val_accuracy: 0.4325\n",
      "Epoch 16/80\n",
      "100/100 [==============================] - 10s 102ms/step - loss: 6.0931 - accuracy: 0.4797 - val_loss: 6.1716 - val_accuracy: 0.4225\n",
      "Epoch 17/80\n",
      "100/100 [==============================] - 10s 102ms/step - loss: 6.0687 - accuracy: 0.4770 - val_loss: 6.1300 - val_accuracy: 0.4325\n",
      "Epoch 18/80\n",
      "100/100 [==============================] - 10s 102ms/step - loss: 6.0234 - accuracy: 0.4805 - val_loss: 6.1240 - val_accuracy: 0.4288\n",
      "Epoch 19/80\n",
      "100/100 [==============================] - 10s 102ms/step - loss: 6.0022 - accuracy: 0.4831 - val_loss: 6.0626 - val_accuracy: 0.4512\n",
      "Epoch 20/80\n",
      "100/100 [==============================] - 10s 101ms/step - loss: 5.9533 - accuracy: 0.4909 - val_loss: 6.0351 - val_accuracy: 0.4550\n",
      "Epoch 21/80\n",
      "100/100 [==============================] - 10s 102ms/step - loss: 5.9264 - accuracy: 0.4952 - val_loss: 6.0171 - val_accuracy: 0.4462\n",
      "Epoch 22/80\n",
      "100/100 [==============================] - 10s 102ms/step - loss: 5.8847 - accuracy: 0.4947 - val_loss: 5.9934 - val_accuracy: 0.4512\n",
      "Epoch 23/80\n",
      "100/100 [==============================] - 10s 102ms/step - loss: 5.8713 - accuracy: 0.4936 - val_loss: 5.9825 - val_accuracy: 0.4500\n",
      "Epoch 24/80\n",
      "100/100 [==============================] - 10s 102ms/step - loss: 5.8181 - accuracy: 0.5080 - val_loss: 5.9648 - val_accuracy: 0.4487\n",
      "Epoch 25/80\n",
      "100/100 [==============================] - 10s 103ms/step - loss: 5.7964 - accuracy: 0.5119 - val_loss: 5.9164 - val_accuracy: 0.4712\n",
      "Epoch 26/80\n",
      "100/100 [==============================] - 10s 104ms/step - loss: 5.7654 - accuracy: 0.5109 - val_loss: 5.9150 - val_accuracy: 0.4487\n",
      "Epoch 27/80\n",
      "100/100 [==============================] - 10s 105ms/step - loss: 5.7250 - accuracy: 0.5188 - val_loss: 5.8768 - val_accuracy: 0.4538\n",
      "Epoch 28/80\n",
      "100/100 [==============================] - 11s 106ms/step - loss: 5.6992 - accuracy: 0.5156 - val_loss: 5.8787 - val_accuracy: 0.4675\n",
      "Epoch 29/80\n",
      "100/100 [==============================] - 11s 106ms/step - loss: 5.6750 - accuracy: 0.5250 - val_loss: 5.8446 - val_accuracy: 0.4625\n",
      "Epoch 30/80\n",
      "100/100 [==============================] - 11s 106ms/step - loss: 5.6411 - accuracy: 0.5247 - val_loss: 5.8361 - val_accuracy: 0.4525\n",
      "Epoch 31/80\n",
      "100/100 [==============================] - 11s 105ms/step - loss: 5.6263 - accuracy: 0.5186 - val_loss: 5.8092 - val_accuracy: 0.4625\n",
      "Epoch 32/80\n",
      "100/100 [==============================] - 10s 105ms/step - loss: 5.6036 - accuracy: 0.5235 - val_loss: 5.7824 - val_accuracy: 0.4787\n",
      "Epoch 33/80\n",
      "100/100 [==============================] - 11s 106ms/step - loss: 5.5692 - accuracy: 0.5335 - val_loss: 5.7538 - val_accuracy: 0.4787\n",
      "Epoch 34/80\n",
      "100/100 [==============================] - 10s 105ms/step - loss: 5.5182 - accuracy: 0.5394 - val_loss: 5.7555 - val_accuracy: 0.4663\n",
      "Epoch 35/80\n",
      "100/100 [==============================] - 10s 103ms/step - loss: 5.5167 - accuracy: 0.5368 - val_loss: 5.7248 - val_accuracy: 0.4737\n",
      "Epoch 36/80\n",
      "100/100 [==============================] - 10s 103ms/step - loss: 5.4835 - accuracy: 0.5430 - val_loss: 5.7020 - val_accuracy: 0.4663\n",
      "Epoch 37/80\n",
      "100/100 [==============================] - 10s 103ms/step - loss: 5.4593 - accuracy: 0.5380 - val_loss: 5.7178 - val_accuracy: 0.4638\n",
      "Epoch 38/80\n",
      "100/100 [==============================] - 10s 103ms/step - loss: 5.4345 - accuracy: 0.5493 - val_loss: 5.6851 - val_accuracy: 0.4663\n",
      "Epoch 39/80\n",
      "100/100 [==============================] - 10s 103ms/step - loss: 5.4142 - accuracy: 0.5457 - val_loss: 5.6312 - val_accuracy: 0.4863\n",
      "Epoch 40/80\n",
      "100/100 [==============================] - 10s 103ms/step - loss: 5.3734 - accuracy: 0.5629 - val_loss: 5.6221 - val_accuracy: 0.4750\n",
      "Epoch 41/80\n",
      "100/100 [==============================] - 10s 102ms/step - loss: 5.3507 - accuracy: 0.5515 - val_loss: 5.6422 - val_accuracy: 0.4625\n",
      "Epoch 42/80\n",
      "100/100 [==============================] - 10s 103ms/step - loss: 5.3143 - accuracy: 0.5655 - val_loss: 5.6418 - val_accuracy: 0.4613\n",
      "Epoch 43/80\n",
      "100/100 [==============================] - 10s 104ms/step - loss: 5.3141 - accuracy: 0.5558 - val_loss: 5.5862 - val_accuracy: 0.4812\n",
      "Epoch 44/80\n",
      "100/100 [==============================] - 10s 102ms/step - loss: 5.2860 - accuracy: 0.5580 - val_loss: 5.5633 - val_accuracy: 0.4737\n",
      "Epoch 45/80\n",
      "100/100 [==============================] - 10s 103ms/step - loss: 5.2579 - accuracy: 0.5633 - val_loss: 5.5242 - val_accuracy: 0.4812\n",
      "Epoch 46/80\n",
      "100/100 [==============================] - 10s 103ms/step - loss: 5.2332 - accuracy: 0.5754 - val_loss: 5.5554 - val_accuracy: 0.4800\n",
      "Epoch 47/80\n",
      "100/100 [==============================] - 10s 103ms/step - loss: 5.2239 - accuracy: 0.5687 - val_loss: 5.5067 - val_accuracy: 0.4800\n",
      "Epoch 48/80\n",
      "100/100 [==============================] - 10s 102ms/step - loss: 5.1799 - accuracy: 0.5740 - val_loss: 5.4888 - val_accuracy: 0.4825\n",
      "Epoch 49/80\n",
      "100/100 [==============================] - 10s 102ms/step - loss: 5.1739 - accuracy: 0.5693 - val_loss: 5.5063 - val_accuracy: 0.4750\n",
      "Epoch 50/80\n",
      "100/100 [==============================] - 10s 104ms/step - loss: 5.1416 - accuracy: 0.5729 - val_loss: 5.4934 - val_accuracy: 0.4775\n",
      "Epoch 51/80\n",
      "100/100 [==============================] - 10s 104ms/step - loss: 5.1220 - accuracy: 0.5835 - val_loss: 5.5074 - val_accuracy: 0.4725\n",
      "Epoch 52/80\n",
      "100/100 [==============================] - 10s 103ms/step - loss: 5.1032 - accuracy: 0.5784 - val_loss: 5.4876 - val_accuracy: 0.4700\n",
      "Epoch 53/80\n",
      "100/100 [==============================] - 10s 104ms/step - loss: 5.0778 - accuracy: 0.5835 - val_loss: 5.4589 - val_accuracy: 0.4625\n",
      "Epoch 54/80\n",
      "100/100 [==============================] - 10s 103ms/step - loss: 5.0569 - accuracy: 0.5893 - val_loss: 5.4755 - val_accuracy: 0.4600\n",
      "Epoch 55/80\n",
      "100/100 [==============================] - 10s 103ms/step - loss: 5.0371 - accuracy: 0.5834 - val_loss: 5.4285 - val_accuracy: 0.4650\n",
      "Epoch 56/80\n",
      "100/100 [==============================] - 10s 104ms/step - loss: 5.0103 - accuracy: 0.5923 - val_loss: 5.4226 - val_accuracy: 0.4613\n",
      "Epoch 57/80\n"
     ]
    },
    {
     "name": "stdout",
     "output_type": "stream",
     "text": [
      "100/100 [==============================] - 10s 103ms/step - loss: 4.9896 - accuracy: 0.5895 - val_loss: 5.3659 - val_accuracy: 0.4787\n",
      "Epoch 58/80\n",
      "100/100 [==============================] - 10s 104ms/step - loss: 4.9785 - accuracy: 0.5926 - val_loss: 5.4151 - val_accuracy: 0.4663\n",
      "Epoch 59/80\n",
      "100/100 [==============================] - 10s 102ms/step - loss: 4.9679 - accuracy: 0.5901 - val_loss: 5.3657 - val_accuracy: 0.4725\n",
      "Epoch 60/80\n",
      "100/100 [==============================] - 10s 103ms/step - loss: 4.9308 - accuracy: 0.6026 - val_loss: 5.3881 - val_accuracy: 0.4650\n",
      "Epoch 61/80\n",
      "100/100 [==============================] - 10s 103ms/step - loss: 4.9136 - accuracy: 0.6109 - val_loss: 5.3512 - val_accuracy: 0.4775\n",
      "Epoch 62/80\n",
      "100/100 [==============================] - 10s 103ms/step - loss: 4.8889 - accuracy: 0.6070 - val_loss: 5.3171 - val_accuracy: 0.4837\n",
      "Epoch 63/80\n",
      "100/100 [==============================] - 10s 103ms/step - loss: 4.8669 - accuracy: 0.6065 - val_loss: 5.3556 - val_accuracy: 0.4625\n",
      "Epoch 64/80\n",
      "100/100 [==============================] - 10s 103ms/step - loss: 4.8564 - accuracy: 0.6084 - val_loss: 5.2975 - val_accuracy: 0.4700\n",
      "Epoch 65/80\n",
      "100/100 [==============================] - 10s 103ms/step - loss: 4.8333 - accuracy: 0.6101 - val_loss: 5.3038 - val_accuracy: 0.4675\n",
      "Epoch 66/80\n",
      "100/100 [==============================] - 10s 103ms/step - loss: 4.8125 - accuracy: 0.6109 - val_loss: 5.2607 - val_accuracy: 0.4787\n",
      "Epoch 67/80\n",
      "100/100 [==============================] - 10s 103ms/step - loss: 4.7852 - accuracy: 0.6217 - val_loss: 5.2973 - val_accuracy: 0.4650\n",
      "Epoch 68/80\n",
      "100/100 [==============================] - 10s 103ms/step - loss: 4.7742 - accuracy: 0.6106 - val_loss: 5.2703 - val_accuracy: 0.4625\n",
      "Epoch 69/80\n",
      "100/100 [==============================] - 10s 102ms/step - loss: 4.7500 - accuracy: 0.6232 - val_loss: 5.2661 - val_accuracy: 0.4563\n"
     ]
    }
   ],
   "source": [
    "model2 = Sequential(name = 'CNN_LSTM_Hybrid')\n",
    "\n",
    "model2.add(Sequential([\n",
    "    Conv1D(128,10,\n",
    "           activation='relu',\n",
    "           kernel_regularizer=regularizers.l2(0.01),\n",
    "           input_shape=(640, 7)),\n",
    "    BatchNormalization(),\n",
    "    MaxPooling1D(pool_size=4),\n",
    "    Dropout(0.1)],\n",
    "           name = 'Conv1'))\n",
    "\n",
    "model2.add(Sequential([\n",
    "    Conv1D(256,5,\n",
    "           activation='relu',\n",
    "           kernel_regularizer=regularizers.l2(0.01)),\n",
    "    BatchNormalization(),\n",
    "    MaxPooling1D(pool_size=4),\n",
    "    Dropout(0.1)],\n",
    "           name = 'Conv2'))\n",
    "\n",
    "model2.add(Sequential([\n",
    "    Conv1D(512,5,\n",
    "           activation='relu',\n",
    "           kernel_regularizer=regularizers.l2(0.01)),\n",
    "    BatchNormalization(),\n",
    "    MaxPooling1D(pool_size=4),\n",
    "    Dropout(0.1)],\n",
    "           name = 'Conv3'))\n",
    "\n",
    "model2.add(Sequential([\n",
    "    LSTM(350),\n",
    "    BatchNormalization(),\n",
    "    Dropout(0.1)],\n",
    "           name = 'LSTM'))\n",
    "\n",
    "model2.add(Sequential([\n",
    "    Dense(64, activation='relu', bias_regularizer=regularizers.l2(1e-4)),\n",
    "    Dropout(0.2)],\n",
    "           name = 'Dense1'))\n",
    "\n",
    "model2.add(Sequential([\n",
    "    Dense(8, activation='softmax')],\n",
    "           name = 'Final'))\n",
    "    \n",
    "model2.compile(loss =loss,\n",
    "    optimizer=optimizer,\n",
    "    metrics = metrics)\n",
    "\n",
    "history = model2.fit(x=X_train, y=y_train,\n",
    "                     batch_size=64,\n",
    "                     epochs=80,\n",
    "                     verbose=1,\n",
    "                     validation_data=(X_val, y_val),\n",
    "                     callbacks=[early_stopping])\n",
    "                     #, model_checkpoint])"
   ]
  },
  {
   "cell_type": "code",
   "execution_count": 75,
   "metadata": {},
   "outputs": [
    {
     "name": "stdout",
     "output_type": "stream",
     "text": [
      "Model: \"CNN_LSTM_Hybrid\"\n",
      "_________________________________________________________________\n",
      "Layer (type)                 Output Shape              Param #   \n",
      "=================================================================\n",
      "Conv1 (Sequential)           (None, 157, 128)          9600      \n",
      "_________________________________________________________________\n",
      "Conv2 (Sequential)           (None, 38, 256)           165120    \n",
      "_________________________________________________________________\n",
      "Conv3 (Sequential)           (None, 8, 512)            657920    \n",
      "_________________________________________________________________\n",
      "LSTM (Sequential)            (None, 350)               1209600   \n",
      "_________________________________________________________________\n",
      "Dense1 (Sequential)          (None, 64)                22464     \n",
      "_________________________________________________________________\n",
      "Final (Sequential)           (None, 8)                 520       \n",
      "=================================================================\n",
      "Total params: 2,065,224\n",
      "Trainable params: 2,062,732\n",
      "Non-trainable params: 2,492\n",
      "_________________________________________________________________\n"
     ]
    }
   ],
   "source": [
    "model2.summary()"
   ]
  },
  {
   "cell_type": "code",
   "execution_count": 98,
   "metadata": {},
   "outputs": [],
   "source": [
    "plt.rcParams['figure.dpi'] = 100\n",
    "plt.rcParams['figure.figsize'] = (10,5)\n",
    "\n",
    "def plot_metric(history, metric):\n",
    "    train_metrics = history.history[metric]\n",
    "    val_metrics = history.history['val_'+metric]\n",
    "    epochs = range(1, len(train_metrics) + 1)\n",
    "    plt.plot(epochs, train_metrics)\n",
    "    plt.plot(epochs, val_metrics)\n",
    "    plt.title('Model '+ metric.capitalize())\n",
    "    plt.xlabel('Epochs')\n",
    "    plt.ylabel(metric.capitalize())\n",
    "    plt.legend(['train', 'validation'])\n",
    "    # plt.show()"
   ]
  },
  {
   "cell_type": "code",
   "execution_count": 100,
   "metadata": {},
   "outputs": [
    {
     "data": {
      "image/png": "[encoded data removed]",
      "text/plain": [
       "<Figure size 1000x500 with 1 Axes>"
      ]
     },
     "metadata": {
      "needs_background": "light"
     },
     "output_type": "display_data"
    }
   ],
   "source": [
    "plot_metric(history, 'loss')\n",
    "plt.savefig('../imgs/model_loss.png')"
   ]
  },
  {
   "cell_type": "code",
   "execution_count": 101,
   "metadata": {},
   "outputs": [
    {
     "data": {
      "image/png": "[encoded data removed]",
      "text/plain": [
       "<Figure size 1000x500 with 1 Axes>"
      ]
     },
     "metadata": {
      "needs_background": "light"
     },
     "output_type": "display_data"
    }
   ],
   "source": [
    "plot_metric(history, 'accuracy')\n",
    "plt.savefig('../imgs/model_accuracy.png')"
   ]
  },
  {
   "cell_type": "code",
   "execution_count": null,
   "metadata": {},
   "outputs": [],
   "source": [
    "model2.save('../CNN_LSTM_model/')"
   ]
  },
  {
   "cell_type": "code",
   "execution_count": 97,
   "metadata": {},
   "outputs": [
    {
     "name": "stdout",
     "output_type": "stream",
     "text": [
      "25/25 [==============================] - 0s 16ms/step - loss: 5.3971 - accuracy: 0.3975\n"
     ]
    },
    {
     "data": {
      "text/plain": [
       "[5.397138595581055, 0.39750000834465027]"
      ]
     },
     "execution_count": 97,
     "metadata": {},
     "output_type": "execute_result"
    }
   ],
   "source": [
    "saved_model = load_model('../CNN_LSTM_model/')\n",
    "saved_model.evaluate(X_test, y_test)"
   ]
  },
  {
   "cell_type": "code",
   "execution_count": null,
   "metadata": {},
   "outputs": [],
   "source": []
  }
 ],
 "metadata": {
  "kernelspec": {
   "display_name": "Python 3",
   "language": "python",
   "name": "python3"
  },
  "language_info": {
   "codemirror_mode": {
    "name": "ipython",
    "version": 3
   },
   "file_extension": ".py",
   "mimetype": "text/x-python",
   "name": "python",
   "nbconvert_exporter": "python",
   "pygments_lexer": "ipython3",
   "version": "3.8.5"
  }
 },
 "nbformat": 4,
 "nbformat_minor": 4
}
