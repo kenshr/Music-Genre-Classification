{
 "cells": [
  {
   "cell_type": "code",
   "execution_count": 1,
   "metadata": {},
   "outputs": [],
   "source": [
    "from tensorflow import keras\n",
    "from tensorflow.keras import metrics\n",
    "from tensorflow.keras.models import Sequential\n",
    "from tensorflow.keras.layers import Conv2D, BatchNormalization, MaxPooling2D, GlobalMaxPooling2D\n",
    "from tensorflow.keras.layers import Dense, Activation, Dropout, Flatten\n",
    "from tensorflow.keras.activations import relu\n",
    "\n",
    "import numpy as np"
   ]
  },
  {
   "cell_type": "markdown",
   "metadata": {},
   "source": [
    "# Load in data"
   ]
  },
  {
   "cell_type": "code",
   "execution_count": 2,
   "metadata": {},
   "outputs": [],
   "source": [
    "train_file = np.load('../data/shuffled_train.npz')\n",
    "X_train = train_file['arr_0']\n",
    "y_train = train_file['arr_1']\n",
    "\n",
    "val_file = np.load('../data/shuffled_valid.npz')\n",
    "X_val = val_file['arr_0']\n",
    "y_val = val_file['arr_1']\n",
    "\n",
    "test_file = np.load('../data/test_arr.npz')\n",
    "X_test = test_file['arr_0']\n",
    "y_test = test_file['arr_1']"
   ]
  },
  {
   "cell_type": "code",
   "execution_count": 3,
   "metadata": {},
   "outputs": [
    {
     "name": "stdout",
     "output_type": "stream",
     "text": [
      "(6394, 640, 128)\n",
      "(800, 640, 128)\n",
      "(800, 640, 128)\n"
     ]
    }
   ],
   "source": [
    "print(X_train.shape)\n",
    "print(X_val.shape)\n",
    "print(X_test.shape)"
   ]
  },
  {
   "cell_type": "markdown",
   "metadata": {},
   "source": [
    "# Model building"
   ]
  },
  {
   "cell_type": "code",
   "execution_count": 5,
   "metadata": {},
   "outputs": [],
   "source": [
    "batch_size = 128\n",
    "num_classes = 8\n",
    "epochs = 5\n",
    "metrics = [metrics.CategoricalAccuracy(name='accuracy')]\n",
    "\n",
    "# reshape the images \n",
    "X_train = X_train.reshape(6394, 640, 128, 1)\n",
    "X_val = X_val.reshape(800, 640, 128, 1)\n",
    "X_test = X_test.reshape(800, 640, 128, 1)\n",
    "\n",
    "# convert class vectors to binary class matrices\n",
    "y_train = keras.utils.to_categorical(y_train, num_classes)\n",
    "y_val = keras.utils.to_categorical(y_val, num_classes)\n",
    "y_test = keras.utils.to_categorical(y_test, num_classes)"
   ]
  },
  {
   "cell_type": "code",
   "execution_count": 11,
   "metadata": {},
   "outputs": [
    {
     "data": {
      "text/plain": [
       "array([0., 0., 0., 0., 0., 1., 0., 0.], dtype=float32)"
      ]
     },
     "execution_count": 11,
     "metadata": {},
     "output_type": "execute_result"
    }
   ],
   "source": [
    "y_train[0]"
   ]
  },
  {
   "cell_type": "code",
   "execution_count": 9,
   "metadata": {},
   "outputs": [
    {
     "name": "stdout",
     "output_type": "stream",
     "text": [
      "Epoch 1/5\n",
      "100/100 [==============================] - 85s 846ms/step - loss: 10.1000 - accuracy: 0.1705 - val_loss: 2.0128 - val_accuracy: 0.2050\n",
      "Epoch 2/5\n",
      "100/100 [==============================] - 85s 854ms/step - loss: 1.9769 - accuracy: 0.2399 - val_loss: 2.0005 - val_accuracy: 0.2113\n",
      "Epoch 3/5\n",
      "100/100 [==============================] - 86s 858ms/step - loss: 1.8541 - accuracy: 0.3175 - val_loss: 1.8690 - val_accuracy: 0.2850\n",
      "Epoch 4/5\n",
      "100/100 [==============================] - 85s 852ms/step - loss: 1.6421 - accuracy: 0.4063 - val_loss: 1.8921 - val_accuracy: 0.2950\n",
      "Epoch 5/5\n",
      "100/100 [==============================] - 85s 849ms/step - loss: 1.4541 - accuracy: 0.4894 - val_loss: 1.9955 - val_accuracy: 0.3288\n",
      "25/25 [==============================] - 2s 66ms/step - loss: 1.9955 - accuracy: 0.3288\n",
      "Test loss: 1.995537519454956\n",
      "Test accuracy: 0.32875001430511475\n"
     ]
    }
   ],
   "source": [
    "model = Sequential()\n",
    "model.add(Conv2D(32, kernel_size=(3,3),\n",
    "                 activation='relu',\n",
    "                 input_shape=(640, 128, 1)))\n",
    "model.add(MaxPooling2D(pool_size=(2,2)))\n",
    "\n",
    "model.add(Conv2D(64, kernel_size=(3,3),\n",
    "                 activation='relu'))\n",
    "model.add(MaxPooling2D(pool_size=(2,2)))\n",
    "\n",
    "model.add(Dropout(0.25))\n",
    "model.add(Flatten())\n",
    "\n",
    "model.add(Dense(128, activation='relu'))\n",
    "model.add(Dropout(0.5))\n",
    "\n",
    "model.add(Dense(num_classes, activation='softmax'))\n",
    "\n",
    "model.compile(loss=keras.losses.categorical_crossentropy,\n",
    "              optimizer=keras.optimizers.Adam(),\n",
    "              metrics=['accuracy'])\n",
    "\n",
    "model.fit(x=X_train, y=y_train,\n",
    "          batch_size=64,\n",
    "          epochs=epochs,\n",
    "          verbose=1,\n",
    "          validation_data=(X_val, y_val))\n",
    "\n",
    "score = model.evaluate(X_val, y_val, verbose=1)\n",
    "print('Test loss:', score[0])\n",
    "print('Test accuracy:', score[1])"
   ]
  },
  {
   "cell_type": "code",
   "execution_count": 18,
   "metadata": {},
   "outputs": [],
   "source": [
    "model.save('../model/base_41.h5')"
   ]
  },
  {
   "cell_type": "code",
   "execution_count": 19,
   "metadata": {},
   "outputs": [
    {
     "name": "stdout",
     "output_type": "stream",
     "text": [
      "WARNING:tensorflow:From /home/ubuntu/anaconda3/lib/python3.8/site-packages/tensorflow/python/ops/resource_variable_ops.py:1813: calling BaseResourceVariable.__init__ (from tensorflow.python.ops.resource_variable_ops) with constraint is deprecated and will be removed in a future version.\n",
      "Instructions for updating:\n",
      "If using Keras pass *_constraint arguments to layers.\n",
      "INFO:tensorflow:Assets written to: ../model/assets\n"
     ]
    }
   ],
   "source": [
    "model.save('../model')"
   ]
  },
  {
   "cell_type": "code",
   "execution_count": 10,
   "metadata": {},
   "outputs": [
    {
     "name": "stdout",
     "output_type": "stream",
     "text": [
      "Epoch 1/5\n",
      "100/100 [==============================] - 226s 2s/step - loss: 100.1421 - accuracy: 0.1678 - val_loss: 2.0277 - val_accuracy: 0.2050\n",
      "Epoch 2/5\n",
      "100/100 [==============================] - 225s 2s/step - loss: 1.8287 - accuracy: 0.3291 - val_loss: 1.8959 - val_accuracy: 0.3000\n",
      "Epoch 3/5\n",
      "100/100 [==============================] - 226s 2s/step - loss: 1.4122 - accuracy: 0.5088 - val_loss: 1.8559 - val_accuracy: 0.3388\n",
      "Epoch 4/5\n",
      "100/100 [==============================] - 226s 2s/step - loss: 0.9186 - accuracy: 0.6955 - val_loss: 2.0418 - val_accuracy: 0.3500\n",
      "Epoch 5/5\n",
      "100/100 [==============================] - 225s 2s/step - loss: 0.6524 - accuracy: 0.7901 - val_loss: 2.1679 - val_accuracy: 0.3338\n",
      "25/25 [==============================] - 6s 238ms/step - loss: 2.1679 - accuracy: 0.3338\n",
      "Test loss: 2.1679112911224365\n",
      "Test accuracy: 0.33375000953674316\n"
     ]
    }
   ],
   "source": [
    "model = Sequential()\n",
    "model.add(Conv2D(32, kernel_size=(3,3),\n",
    "                 activation='relu',\n",
    "                 input_shape=(640, 128, 1)))\n",
    "\n",
    "model.add(Conv2D(64, kernel_size=(3,3),\n",
    "                 activation='relu'))\n",
    "\n",
    "model.add(Dropout(0.25))\n",
    "model.add(Flatten())\n",
    "\n",
    "model.add(Dense(128, activation='relu'))\n",
    "model.add(Dropout(0.5))\n",
    "\n",
    "model.add(Dense(num_classes, activation='softmax'))\n",
    "\n",
    "model.compile(loss=keras.losses.categorical_crossentropy,\n",
    "              optimizer=keras.optimizers.Adam(),\n",
    "              metrics=['accuracy'])\n",
    "\n",
    "model.fit(x=X_train, y=y_train,\n",
    "          batch_size=64,\n",
    "          epochs=epochs,\n",
    "          verbose=1,\n",
    "          validation_data=(X_val, y_val))\n",
    "\n",
    "score = model.evaluate(X_val, y_val, verbose=1)\n",
    "print('Test loss:', score[0])\n",
    "print('Test accuracy:', score[1])"
   ]
  },
  {
   "cell_type": "code",
   "execution_count": 14,
   "metadata": {},
   "outputs": [
    {
     "name": "stdout",
     "output_type": "stream",
     "text": [
      "Epoch 1/10\n",
      "50/50 [==============================] - 127s 3s/step - loss: 61.3682 - accuracy: 0.2071 - val_loss: 1.9054 - val_accuracy: 0.2850\n",
      "Epoch 2/10\n",
      "50/50 [==============================] - 128s 3s/step - loss: 1.7412 - accuracy: 0.3746 - val_loss: 1.8234 - val_accuracy: 0.3388\n",
      "Epoch 3/10\n",
      "50/50 [==============================] - 128s 3s/step - loss: 1.3360 - accuracy: 0.5377 - val_loss: 1.8224 - val_accuracy: 0.3663\n",
      "Epoch 4/10\n",
      "50/50 [==============================] - 128s 3s/step - loss: 0.9505 - accuracy: 0.6736 - val_loss: 1.9478 - val_accuracy: 0.3688\n",
      "Epoch 5/10\n",
      "50/50 [==============================] - 128s 3s/step - loss: 0.7096 - accuracy: 0.7582 - val_loss: 2.0876 - val_accuracy: 0.3663\n",
      "Epoch 6/10\n",
      "50/50 [==============================] - 128s 3s/step - loss: 0.5166 - accuracy: 0.8298 - val_loss: 2.1405 - val_accuracy: 0.3537\n",
      "Epoch 7/10\n",
      "50/50 [==============================] - 128s 3s/step - loss: 0.4281 - accuracy: 0.8642 - val_loss: 2.2898 - val_accuracy: 0.3500\n",
      "Epoch 8/10\n",
      "50/50 [==============================] - 128s 3s/step - loss: 0.3354 - accuracy: 0.8915 - val_loss: 2.5403 - val_accuracy: 0.3963\n",
      "Epoch 9/10\n",
      "50/50 [==============================] - 128s 3s/step - loss: 0.2764 - accuracy: 0.9127 - val_loss: 2.5182 - val_accuracy: 0.3913\n",
      "Epoch 10/10\n",
      "50/50 [==============================] - 128s 3s/step - loss: 0.2504 - accuracy: 0.9220 - val_loss: 2.3627 - val_accuracy: 0.3725\n",
      "25/25 [==============================] - 5s 197ms/step - loss: 2.3627 - accuracy: 0.3725\n",
      "Test loss: 2.362652063369751\n",
      "Test accuracy: 0.3725000023841858\n"
     ]
    }
   ],
   "source": [
    "model = Sequential()\n",
    "model.add(Conv2D(32, kernel_size=(3,3),\n",
    "                 activation='relu',\n",
    "                 input_shape=(640, 128, 1)))\n",
    "model.add(Conv2D(64, kernel_size=(3,3),\n",
    "                 activation='relu'))\n",
    "model.add(MaxPooling2D(pool_size=(2,2)))\n",
    "model.add(Dropout(0.25))\n",
    "model.add(Flatten())\n",
    "model.add(Dense(128, activation='relu'))\n",
    "model.add(Dropout(0.5))\n",
    "model.add(Dense(num_classes, activation='softmax'))\n",
    "\n",
    "model.compile(loss=keras.losses.categorical_crossentropy,\n",
    "              optimizer=keras.optimizers.Adam(),\n",
    "              metrics=['accuracy'])\n",
    "\n",
    "model.fit(x=X_train, y=y_train,\n",
    "          batch_size=batch_size,\n",
    "          epochs=10,\n",
    "          verbose=1,\n",
    "          validation_data=(X_val, y_val))\n",
    "\n",
    "score = model.evaluate(X_val, y_val, verbose=1)\n",
    "print('Test loss:', score[0])\n",
    "print('Test accuracy:', score[1])"
   ]
  },
  {
   "cell_type": "code",
   "execution_count": 22,
   "metadata": {},
   "outputs": [
    {
     "name": "stdout",
     "output_type": "stream",
     "text": [
      "Epoch 1/75\n",
      "50/50 [==============================] - 210s 4s/step - loss: 2.9580 - accuracy: 0.2581 - val_loss: 2.0889 - val_accuracy: 0.1200\n",
      "Epoch 2/75\n",
      "50/50 [==============================] - 206s 4s/step - loss: 2.9370 - accuracy: 0.1991 - val_loss: 2.9071 - val_accuracy: 0.1250\n",
      "Epoch 3/75\n",
      "50/50 [==============================] - 206s 4s/step - loss: 2.6602 - accuracy: 0.2058 - val_loss: 2.4392 - val_accuracy: 0.1250\n",
      "Epoch 4/75\n",
      "50/50 [==============================] - 209s 4s/step - loss: 2.4339 - accuracy: 0.2363 - val_loss: 2.7340 - val_accuracy: 0.1250\n",
      "Epoch 5/75\n",
      "50/50 [==============================] - 208s 4s/step - loss: 2.3422 - accuracy: 0.2576 - val_loss: 2.4715 - val_accuracy: 0.1250\n",
      "Epoch 6/75\n",
      "50/50 [==============================] - 207s 4s/step - loss: 2.2857 - accuracy: 0.2627 - val_loss: 2.7837 - val_accuracy: 0.1287\n",
      "Epoch 7/75\n",
      "50/50 [==============================] - 208s 4s/step - loss: 2.1943 - accuracy: 0.2739 - val_loss: 2.8158 - val_accuracy: 0.1262\n",
      "Epoch 8/75\n",
      "50/50 [==============================] - 210s 4s/step - loss: 2.1359 - accuracy: 0.2826 - val_loss: 2.8823 - val_accuracy: 0.1262\n",
      "Epoch 9/75\n",
      "50/50 [==============================] - 210s 4s/step - loss: 2.1277 - accuracy: 0.2840 - val_loss: 2.6985 - val_accuracy: 0.1338\n",
      "Epoch 10/75\n",
      "50/50 [==============================] - 207s 4s/step - loss: 2.0808 - accuracy: 0.2921 - val_loss: 2.5737 - val_accuracy: 0.1813\n",
      "Epoch 11/75\n",
      "50/50 [==============================] - 207s 4s/step - loss: 2.0764 - accuracy: 0.2979 - val_loss: 2.3980 - val_accuracy: 0.1612\n",
      "Epoch 12/75\n",
      "50/50 [==============================] - 212s 4s/step - loss: 1.9951 - accuracy: 0.3040 - val_loss: 4.1238 - val_accuracy: 0.1637\n",
      "Epoch 13/75\n",
      "50/50 [==============================] - 209s 4s/step - loss: 2.0130 - accuracy: 0.3031 - val_loss: 5.9650 - val_accuracy: 0.1575\n",
      "Epoch 14/75\n",
      "50/50 [==============================] - 206s 4s/step - loss: 1.9763 - accuracy: 0.3029 - val_loss: 3.2295 - val_accuracy: 0.1875\n",
      "Epoch 15/75\n",
      "50/50 [==============================] - 209s 4s/step - loss: 2.0133 - accuracy: 0.3020 - val_loss: 2.2840 - val_accuracy: 0.2338\n",
      "Epoch 16/75\n",
      "50/50 [==============================] - 208s 4s/step - loss: 1.9695 - accuracy: 0.3084 - val_loss: 4.1066 - val_accuracy: 0.1525\n",
      "Epoch 17/75\n",
      "50/50 [==============================] - 210s 4s/step - loss: 2.0208 - accuracy: 0.3037 - val_loss: 5.1516 - val_accuracy: 0.1462\n",
      "Epoch 18/75\n",
      "50/50 [==============================] - 209s 4s/step - loss: 1.9503 - accuracy: 0.3136 - val_loss: 5.2305 - val_accuracy: 0.1550\n",
      "Epoch 19/75\n",
      "50/50 [==============================] - 209s 4s/step - loss: 1.9266 - accuracy: 0.3234 - val_loss: 3.5710 - val_accuracy: 0.1625\n",
      "Epoch 20/75\n",
      "50/50 [==============================] - 208s 4s/step - loss: 1.9395 - accuracy: 0.3050 - val_loss: 3.3202 - val_accuracy: 0.1887\n",
      "Epoch 21/75\n",
      "50/50 [==============================] - 209s 4s/step - loss: 1.9444 - accuracy: 0.3056 - val_loss: 3.0604 - val_accuracy: 0.1875\n",
      "Epoch 22/75\n",
      "50/50 [==============================] - 208s 4s/step - loss: 1.9826 - accuracy: 0.3009 - val_loss: 3.6240 - val_accuracy: 0.1562\n",
      "Epoch 23/75\n",
      "50/50 [==============================] - 211s 4s/step - loss: 1.9896 - accuracy: 0.2879 - val_loss: 3.5035 - val_accuracy: 0.1550\n",
      "Epoch 24/75\n",
      "21/50 [===========>..................] - ETA: 1:55 - loss: 1.9567 - accuracy: 0.3118"
     ]
    },
    {
     "ename": "KeyboardInterrupt",
     "evalue": "",
     "output_type": "error",
     "traceback": [
      "\u001b[0;31m---------------------------------------------------------------------------\u001b[0m",
      "\u001b[0;31mKeyboardInterrupt\u001b[0m                         Traceback (most recent call last)",
      "\u001b[0;32m<ipython-input-22-c3daa2993f48>\u001b[0m in \u001b[0;36m<module>\u001b[0;34m\u001b[0m\n\u001b[1;32m     37\u001b[0m               metrics=['accuracy'])\n\u001b[1;32m     38\u001b[0m \u001b[0;34m\u001b[0m\u001b[0m\n\u001b[0;32m---> 39\u001b[0;31m model2.fit(x=X_train, y=y_train,\n\u001b[0m\u001b[1;32m     40\u001b[0m           \u001b[0mbatch_size\u001b[0m\u001b[0;34m=\u001b[0m\u001b[0;36m128\u001b[0m\u001b[0;34m,\u001b[0m\u001b[0;34m\u001b[0m\u001b[0;34m\u001b[0m\u001b[0m\n\u001b[1;32m     41\u001b[0m           \u001b[0mepochs\u001b[0m\u001b[0;34m=\u001b[0m\u001b[0;36m75\u001b[0m\u001b[0;34m,\u001b[0m\u001b[0;34m\u001b[0m\u001b[0;34m\u001b[0m\u001b[0m\n",
      "\u001b[0;32m~/anaconda3/lib/python3.8/site-packages/tensorflow/python/keras/engine/training.py\u001b[0m in \u001b[0;36m_method_wrapper\u001b[0;34m(self, *args, **kwargs)\u001b[0m\n\u001b[1;32m     64\u001b[0m   \u001b[0;32mdef\u001b[0m \u001b[0m_method_wrapper\u001b[0m\u001b[0;34m(\u001b[0m\u001b[0mself\u001b[0m\u001b[0;34m,\u001b[0m \u001b[0;34m*\u001b[0m\u001b[0margs\u001b[0m\u001b[0;34m,\u001b[0m \u001b[0;34m**\u001b[0m\u001b[0mkwargs\u001b[0m\u001b[0;34m)\u001b[0m\u001b[0;34m:\u001b[0m\u001b[0;34m\u001b[0m\u001b[0;34m\u001b[0m\u001b[0m\n\u001b[1;32m     65\u001b[0m     \u001b[0;32mif\u001b[0m \u001b[0;32mnot\u001b[0m \u001b[0mself\u001b[0m\u001b[0;34m.\u001b[0m\u001b[0m_in_multi_worker_mode\u001b[0m\u001b[0;34m(\u001b[0m\u001b[0;34m)\u001b[0m\u001b[0;34m:\u001b[0m  \u001b[0;31m# pylint: disable=protected-access\u001b[0m\u001b[0;34m\u001b[0m\u001b[0;34m\u001b[0m\u001b[0m\n\u001b[0;32m---> 66\u001b[0;31m       \u001b[0;32mreturn\u001b[0m \u001b[0mmethod\u001b[0m\u001b[0;34m(\u001b[0m\u001b[0mself\u001b[0m\u001b[0;34m,\u001b[0m \u001b[0;34m*\u001b[0m\u001b[0margs\u001b[0m\u001b[0;34m,\u001b[0m \u001b[0;34m**\u001b[0m\u001b[0mkwargs\u001b[0m\u001b[0;34m)\u001b[0m\u001b[0;34m\u001b[0m\u001b[0;34m\u001b[0m\u001b[0m\n\u001b[0m\u001b[1;32m     67\u001b[0m \u001b[0;34m\u001b[0m\u001b[0m\n\u001b[1;32m     68\u001b[0m     \u001b[0;31m# Running inside `run_distribute_coordinator` already.\u001b[0m\u001b[0;34m\u001b[0m\u001b[0;34m\u001b[0m\u001b[0;34m\u001b[0m\u001b[0m\n",
      "\u001b[0;32m~/anaconda3/lib/python3.8/site-packages/tensorflow/python/keras/engine/training.py\u001b[0m in \u001b[0;36mfit\u001b[0;34m(self, x, y, batch_size, epochs, verbose, callbacks, validation_split, validation_data, shuffle, class_weight, sample_weight, initial_epoch, steps_per_epoch, validation_steps, validation_batch_size, validation_freq, max_queue_size, workers, use_multiprocessing)\u001b[0m\n\u001b[1;32m    846\u001b[0m                 batch_size=batch_size):\n\u001b[1;32m    847\u001b[0m               \u001b[0mcallbacks\u001b[0m\u001b[0;34m.\u001b[0m\u001b[0mon_train_batch_begin\u001b[0m\u001b[0;34m(\u001b[0m\u001b[0mstep\u001b[0m\u001b[0;34m)\u001b[0m\u001b[0;34m\u001b[0m\u001b[0;34m\u001b[0m\u001b[0m\n\u001b[0;32m--> 848\u001b[0;31m               \u001b[0mtmp_logs\u001b[0m \u001b[0;34m=\u001b[0m \u001b[0mtrain_function\u001b[0m\u001b[0;34m(\u001b[0m\u001b[0miterator\u001b[0m\u001b[0;34m)\u001b[0m\u001b[0;34m\u001b[0m\u001b[0;34m\u001b[0m\u001b[0m\n\u001b[0m\u001b[1;32m    849\u001b[0m               \u001b[0;31m# Catch OutOfRangeError for Datasets of unknown size.\u001b[0m\u001b[0;34m\u001b[0m\u001b[0;34m\u001b[0m\u001b[0;34m\u001b[0m\u001b[0m\n\u001b[1;32m    850\u001b[0m               \u001b[0;31m# This blocks until the batch has finished executing.\u001b[0m\u001b[0;34m\u001b[0m\u001b[0;34m\u001b[0m\u001b[0;34m\u001b[0m\u001b[0m\n",
      "\u001b[0;32m~/anaconda3/lib/python3.8/site-packages/tensorflow/python/eager/def_function.py\u001b[0m in \u001b[0;36m__call__\u001b[0;34m(self, *args, **kwds)\u001b[0m\n\u001b[1;32m    578\u001b[0m         \u001b[0mxla_context\u001b[0m\u001b[0;34m.\u001b[0m\u001b[0mExit\u001b[0m\u001b[0;34m(\u001b[0m\u001b[0;34m)\u001b[0m\u001b[0;34m\u001b[0m\u001b[0;34m\u001b[0m\u001b[0m\n\u001b[1;32m    579\u001b[0m     \u001b[0;32melse\u001b[0m\u001b[0;34m:\u001b[0m\u001b[0;34m\u001b[0m\u001b[0;34m\u001b[0m\u001b[0m\n\u001b[0;32m--> 580\u001b[0;31m       \u001b[0mresult\u001b[0m \u001b[0;34m=\u001b[0m \u001b[0mself\u001b[0m\u001b[0;34m.\u001b[0m\u001b[0m_call\u001b[0m\u001b[0;34m(\u001b[0m\u001b[0;34m*\u001b[0m\u001b[0margs\u001b[0m\u001b[0;34m,\u001b[0m \u001b[0;34m**\u001b[0m\u001b[0mkwds\u001b[0m\u001b[0;34m)\u001b[0m\u001b[0;34m\u001b[0m\u001b[0;34m\u001b[0m\u001b[0m\n\u001b[0m\u001b[1;32m    581\u001b[0m \u001b[0;34m\u001b[0m\u001b[0m\n\u001b[1;32m    582\u001b[0m     \u001b[0;32mif\u001b[0m \u001b[0mtracing_count\u001b[0m \u001b[0;34m==\u001b[0m \u001b[0mself\u001b[0m\u001b[0;34m.\u001b[0m\u001b[0m_get_tracing_count\u001b[0m\u001b[0;34m(\u001b[0m\u001b[0;34m)\u001b[0m\u001b[0;34m:\u001b[0m\u001b[0;34m\u001b[0m\u001b[0;34m\u001b[0m\u001b[0m\n",
      "\u001b[0;32m~/anaconda3/lib/python3.8/site-packages/tensorflow/python/eager/def_function.py\u001b[0m in \u001b[0;36m_call\u001b[0;34m(self, *args, **kwds)\u001b[0m\n\u001b[1;32m    609\u001b[0m       \u001b[0;31m# In this case we have created variables on the first call, so we run the\u001b[0m\u001b[0;34m\u001b[0m\u001b[0;34m\u001b[0m\u001b[0;34m\u001b[0m\u001b[0m\n\u001b[1;32m    610\u001b[0m       \u001b[0;31m# defunned version which is guaranteed to never create variables.\u001b[0m\u001b[0;34m\u001b[0m\u001b[0;34m\u001b[0m\u001b[0;34m\u001b[0m\u001b[0m\n\u001b[0;32m--> 611\u001b[0;31m       \u001b[0;32mreturn\u001b[0m \u001b[0mself\u001b[0m\u001b[0;34m.\u001b[0m\u001b[0m_stateless_fn\u001b[0m\u001b[0;34m(\u001b[0m\u001b[0;34m*\u001b[0m\u001b[0margs\u001b[0m\u001b[0;34m,\u001b[0m \u001b[0;34m**\u001b[0m\u001b[0mkwds\u001b[0m\u001b[0;34m)\u001b[0m  \u001b[0;31m# pylint: disable=not-callable\u001b[0m\u001b[0;34m\u001b[0m\u001b[0;34m\u001b[0m\u001b[0m\n\u001b[0m\u001b[1;32m    612\u001b[0m     \u001b[0;32melif\u001b[0m \u001b[0mself\u001b[0m\u001b[0;34m.\u001b[0m\u001b[0m_stateful_fn\u001b[0m \u001b[0;32mis\u001b[0m \u001b[0;32mnot\u001b[0m \u001b[0;32mNone\u001b[0m\u001b[0;34m:\u001b[0m\u001b[0;34m\u001b[0m\u001b[0;34m\u001b[0m\u001b[0m\n\u001b[1;32m    613\u001b[0m       \u001b[0;31m# Release the lock early so that multiple threads can perform the call\u001b[0m\u001b[0;34m\u001b[0m\u001b[0;34m\u001b[0m\u001b[0;34m\u001b[0m\u001b[0m\n",
      "\u001b[0;32m~/anaconda3/lib/python3.8/site-packages/tensorflow/python/eager/function.py\u001b[0m in \u001b[0;36m__call__\u001b[0;34m(self, *args, **kwargs)\u001b[0m\n\u001b[1;32m   2418\u001b[0m     \u001b[0;32mwith\u001b[0m \u001b[0mself\u001b[0m\u001b[0;34m.\u001b[0m\u001b[0m_lock\u001b[0m\u001b[0;34m:\u001b[0m\u001b[0;34m\u001b[0m\u001b[0;34m\u001b[0m\u001b[0m\n\u001b[1;32m   2419\u001b[0m       \u001b[0mgraph_function\u001b[0m\u001b[0;34m,\u001b[0m \u001b[0margs\u001b[0m\u001b[0;34m,\u001b[0m \u001b[0mkwargs\u001b[0m \u001b[0;34m=\u001b[0m \u001b[0mself\u001b[0m\u001b[0;34m.\u001b[0m\u001b[0m_maybe_define_function\u001b[0m\u001b[0;34m(\u001b[0m\u001b[0margs\u001b[0m\u001b[0;34m,\u001b[0m \u001b[0mkwargs\u001b[0m\u001b[0;34m)\u001b[0m\u001b[0;34m\u001b[0m\u001b[0;34m\u001b[0m\u001b[0m\n\u001b[0;32m-> 2420\u001b[0;31m     \u001b[0;32mreturn\u001b[0m \u001b[0mgraph_function\u001b[0m\u001b[0;34m.\u001b[0m\u001b[0m_filtered_call\u001b[0m\u001b[0;34m(\u001b[0m\u001b[0margs\u001b[0m\u001b[0;34m,\u001b[0m \u001b[0mkwargs\u001b[0m\u001b[0;34m)\u001b[0m  \u001b[0;31m# pylint: disable=protected-access\u001b[0m\u001b[0;34m\u001b[0m\u001b[0;34m\u001b[0m\u001b[0m\n\u001b[0m\u001b[1;32m   2421\u001b[0m \u001b[0;34m\u001b[0m\u001b[0m\n\u001b[1;32m   2422\u001b[0m   \u001b[0;34m@\u001b[0m\u001b[0mproperty\u001b[0m\u001b[0;34m\u001b[0m\u001b[0;34m\u001b[0m\u001b[0m\n",
      "\u001b[0;32m~/anaconda3/lib/python3.8/site-packages/tensorflow/python/eager/function.py\u001b[0m in \u001b[0;36m_filtered_call\u001b[0;34m(self, args, kwargs)\u001b[0m\n\u001b[1;32m   1659\u001b[0m       \u001b[0;31m`\u001b[0m\u001b[0margs\u001b[0m\u001b[0;31m`\u001b[0m \u001b[0;32mand\u001b[0m\u001b[0;31m \u001b[0m\u001b[0;31m`\u001b[0m\u001b[0mkwargs\u001b[0m\u001b[0;31m`\u001b[0m\u001b[0;34m.\u001b[0m\u001b[0;34m\u001b[0m\u001b[0;34m\u001b[0m\u001b[0m\n\u001b[1;32m   1660\u001b[0m     \"\"\"\n\u001b[0;32m-> 1661\u001b[0;31m     return self._call_flat(\n\u001b[0m\u001b[1;32m   1662\u001b[0m         (t for t in nest.flatten((args, kwargs), expand_composites=True)\n\u001b[1;32m   1663\u001b[0m          if isinstance(t, (ops.Tensor,\n",
      "\u001b[0;32m~/anaconda3/lib/python3.8/site-packages/tensorflow/python/eager/function.py\u001b[0m in \u001b[0;36m_call_flat\u001b[0;34m(self, args, captured_inputs, cancellation_manager)\u001b[0m\n\u001b[1;32m   1743\u001b[0m         and executing_eagerly):\n\u001b[1;32m   1744\u001b[0m       \u001b[0;31m# No tape is watching; skip to running the function.\u001b[0m\u001b[0;34m\u001b[0m\u001b[0;34m\u001b[0m\u001b[0;34m\u001b[0m\u001b[0m\n\u001b[0;32m-> 1745\u001b[0;31m       return self._build_call_outputs(self._inference_function.call(\n\u001b[0m\u001b[1;32m   1746\u001b[0m           ctx, args, cancellation_manager=cancellation_manager))\n\u001b[1;32m   1747\u001b[0m     forward_backward = self._select_forward_and_backward_functions(\n",
      "\u001b[0;32m~/anaconda3/lib/python3.8/site-packages/tensorflow/python/eager/function.py\u001b[0m in \u001b[0;36mcall\u001b[0;34m(self, ctx, args, cancellation_manager)\u001b[0m\n\u001b[1;32m    591\u001b[0m       \u001b[0;32mwith\u001b[0m \u001b[0m_InterpolateFunctionError\u001b[0m\u001b[0;34m(\u001b[0m\u001b[0mself\u001b[0m\u001b[0;34m)\u001b[0m\u001b[0;34m:\u001b[0m\u001b[0;34m\u001b[0m\u001b[0;34m\u001b[0m\u001b[0m\n\u001b[1;32m    592\u001b[0m         \u001b[0;32mif\u001b[0m \u001b[0mcancellation_manager\u001b[0m \u001b[0;32mis\u001b[0m \u001b[0;32mNone\u001b[0m\u001b[0;34m:\u001b[0m\u001b[0;34m\u001b[0m\u001b[0;34m\u001b[0m\u001b[0m\n\u001b[0;32m--> 593\u001b[0;31m           outputs = execute.execute(\n\u001b[0m\u001b[1;32m    594\u001b[0m               \u001b[0mstr\u001b[0m\u001b[0;34m(\u001b[0m\u001b[0mself\u001b[0m\u001b[0;34m.\u001b[0m\u001b[0msignature\u001b[0m\u001b[0;34m.\u001b[0m\u001b[0mname\u001b[0m\u001b[0;34m)\u001b[0m\u001b[0;34m,\u001b[0m\u001b[0;34m\u001b[0m\u001b[0;34m\u001b[0m\u001b[0m\n\u001b[1;32m    595\u001b[0m               \u001b[0mnum_outputs\u001b[0m\u001b[0;34m=\u001b[0m\u001b[0mself\u001b[0m\u001b[0;34m.\u001b[0m\u001b[0m_num_outputs\u001b[0m\u001b[0;34m,\u001b[0m\u001b[0;34m\u001b[0m\u001b[0;34m\u001b[0m\u001b[0m\n",
      "\u001b[0;32m~/anaconda3/lib/python3.8/site-packages/tensorflow/python/eager/execute.py\u001b[0m in \u001b[0;36mquick_execute\u001b[0;34m(op_name, num_outputs, inputs, attrs, ctx, name)\u001b[0m\n\u001b[1;32m     57\u001b[0m   \u001b[0;32mtry\u001b[0m\u001b[0;34m:\u001b[0m\u001b[0;34m\u001b[0m\u001b[0;34m\u001b[0m\u001b[0m\n\u001b[1;32m     58\u001b[0m     \u001b[0mctx\u001b[0m\u001b[0;34m.\u001b[0m\u001b[0mensure_initialized\u001b[0m\u001b[0;34m(\u001b[0m\u001b[0;34m)\u001b[0m\u001b[0;34m\u001b[0m\u001b[0;34m\u001b[0m\u001b[0m\n\u001b[0;32m---> 59\u001b[0;31m     tensors = pywrap_tfe.TFE_Py_Execute(ctx._handle, device_name, op_name,\n\u001b[0m\u001b[1;32m     60\u001b[0m                                         inputs, attrs, num_outputs)\n\u001b[1;32m     61\u001b[0m   \u001b[0;32mexcept\u001b[0m \u001b[0mcore\u001b[0m\u001b[0;34m.\u001b[0m\u001b[0m_NotOkStatusException\u001b[0m \u001b[0;32mas\u001b[0m \u001b[0me\u001b[0m\u001b[0;34m:\u001b[0m\u001b[0;34m\u001b[0m\u001b[0;34m\u001b[0m\u001b[0m\n",
      "\u001b[0;31mKeyboardInterrupt\u001b[0m: "
     ]
    }
   ],
   "source": [
    "# Early stop and model checkpoint\n",
    "es = keras.callbacks.EarlyStopping(monitor='val_loss', mode='min', verbose=1, patience=5, min_delta=1)\n",
    "mc = keras.callbacks.ModelCheckpoint('../model/best_model.h5', monitor='val_loss', mode='min', save_best_only=True)\n",
    "\n",
    "model2 = Sequential()\n",
    "model2.add(Sequential([Conv2D(8, kernel_size=(3,3), activation='relu', input_shape=(640, 128, 1)),\n",
    "                       BatchNormalization(axis=3),\n",
    "                       MaxPooling2D(pool_size=(2,2))\n",
    "                      ], name = 'ConvCell-1'))\n",
    "           \n",
    "model2.add(Sequential([Conv2D(16, kernel_size=(3,3), activation='relu'),\n",
    "                       BatchNormalization(axis=3),\n",
    "                       MaxPooling2D(pool_size=(2,2))\n",
    "                      ], name = 'ConvCell-2'))\n",
    "           \n",
    "model2.add(Sequential([Conv2D(32, kernel_size=(3,3), activation='relu'),\n",
    "                       BatchNormalization(axis=3),\n",
    "                       MaxPooling2D(pool_size=(2,2))\n",
    "                      ], name = 'ConvCell-3'))\n",
    "\n",
    "model2.add(Sequential([Conv2D(64, kernel_size=(3,3), activation='relu'),\n",
    "                       BatchNormalization(axis=3),\n",
    "                       MaxPooling2D(pool_size=(2,2))\n",
    "                      ], name = 'ConvCell-4'))\n",
    "           \n",
    "model2.add(Sequential([Conv2D(128, kernel_size=(3,3), activation='relu'),\n",
    "                       BatchNormalization(axis=3),\n",
    "                       MaxPooling2D(pool_size=(2,2))\n",
    "                      ], name = 'ConvCell-5'))\n",
    "\n",
    "model2.add(Flatten())\n",
    "model2.add(Dropout(0.3))\n",
    "model2.add(Dense(num_classes, activation='softmax'))\n",
    "\n",
    "model2.compile(loss=keras.losses.categorical_crossentropy,\n",
    "              optimizer=keras.optimizers.Adam(),\n",
    "              metrics=['accuracy'])\n",
    "\n",
    "model2.fit(x=X_train, y=y_train,\n",
    "          batch_size=128,\n",
    "          epochs=75,\n",
    "          verbose=1,\n",
    "          validation_data=(X_val, y_val))\n",
    "\n",
    "score2 = model2.evaluate(X_val, y_val, verbose=1)"
   ]
  },
  {
   "cell_type": "code",
   "execution_count": 10,
   "metadata": {},
   "outputs": [
    {
     "name": "stdout",
     "output_type": "stream",
     "text": [
      "Model: \"sequential_3\"\n",
      "_________________________________________________________________\n",
      "Layer (type)                 Output Shape              Param #   \n",
      "=================================================================\n",
      "conv2d_6 (Conv2D)            (None, 638, 126, 32)      320       \n",
      "_________________________________________________________________\n",
      "conv2d_7 (Conv2D)            (None, 636, 124, 64)      18496     \n",
      "_________________________________________________________________\n",
      "max_pooling2d_3 (MaxPooling2 (None, 318, 62, 64)       0         \n",
      "_________________________________________________________________\n",
      "dropout_6 (Dropout)          (None, 318, 62, 64)       0         \n",
      "_________________________________________________________________\n",
      "flatten_3 (Flatten)          (None, 1261824)           0         \n",
      "_________________________________________________________________\n",
      "dense_6 (Dense)              (None, 128)               161513600 \n",
      "_________________________________________________________________\n",
      "dropout_7 (Dropout)          (None, 128)               0         \n",
      "_________________________________________________________________\n",
      "dense_7 (Dense)              (None, 8)                 1032      \n",
      "=================================================================\n",
      "Total params: 161,533,448\n",
      "Trainable params: 161,533,448\n",
      "Non-trainable params: 0\n",
      "_________________________________________________________________\n",
      "None\n",
      "Epoch 1/10\n",
      "1599/1599 [==============================] - 579s 362ms/step - loss: 4.8403 - accuracy: 0.2348 - val_loss: 2.0087 - val_accuracy: 0.2537\n",
      "Epoch 2/10\n",
      "1599/1599 [==============================] - 576s 360ms/step - loss: 1.7814 - accuracy: 0.3483 - val_loss: 1.8266 - val_accuracy: 0.3038\n",
      "Epoch 3/10\n",
      "1599/1599 [==============================] - 576s 360ms/step - loss: 1.4638 - accuracy: 0.4897 - val_loss: 1.9172 - val_accuracy: 0.3475\n",
      "Epoch 4/10\n",
      "1599/1599 [==============================] - 575s 360ms/step - loss: 1.0838 - accuracy: 0.6345 - val_loss: 2.2487 - val_accuracy: 0.3275\n",
      "Epoch 5/10\n",
      "1599/1599 [==============================] - 577s 361ms/step - loss: 0.7902 - accuracy: 0.7437 - val_loss: 2.2962 - val_accuracy: 0.3462\n",
      "Epoch 6/10\n",
      "1599/1599 [==============================] - 578s 362ms/step - loss: 0.7383 - accuracy: 0.7671 - val_loss: 2.6812 - val_accuracy: 0.3388\n",
      "Epoch 7/10\n",
      "1599/1599 [==============================] - 576s 360ms/step - loss: 0.5065 - accuracy: 0.8397 - val_loss: 2.9918 - val_accuracy: 0.2950\n",
      "Epoch 8/10\n",
      "1599/1599 [==============================] - 579s 362ms/step - loss: 0.4971 - accuracy: 0.8455 - val_loss: 3.3266 - val_accuracy: 0.3175\n",
      "Epoch 9/10\n",
      "1599/1599 [==============================] - 574s 359ms/step - loss: 0.4197 - accuracy: 0.8761 - val_loss: 3.3270 - val_accuracy: 0.3088\n",
      "Epoch 10/10\n",
      "1599/1599 [==============================] - 576s 360ms/step - loss: 0.4081 - accuracy: 0.8852 - val_loss: 3.7213 - val_accuracy: 0.3212\n",
      "25/25 [==============================] - 5s 206ms/step - loss: 3.7213 - accuracy: 0.3212\n",
      "\n",
      "Val loss: 3.7212564945220947\n",
      "Val accuracy: 0.32124999165534973\n"
     ]
    }
   ],
   "source": [
    "model3 = Sequential()\n",
    "model3.add(Conv2D(32, kernel_size=(3, 3), activation='relu', input_shape=(640,128,1)))\n",
    "model3.add(Conv2D(64, kernel_size=(3, 3), activation='relu'))\n",
    "model3.add(MaxPooling2D(pool_size=(2, 2)))\n",
    "model3.add(Dropout(0.25))\n",
    "model3.add(Flatten())\n",
    "model3.add(Dense(128, activation='relu'))\n",
    "model3.add(Dropout(0.5))\n",
    "model3.add(Dense(num_classes, activation='softmax'))\n",
    "\n",
    "model3.compile(loss=keras.losses.categorical_crossentropy, optimizer=keras.optimizers.Adam(), metrics=['accuracy'])\n",
    "\n",
    "print(model3.summary())\n",
    "\n",
    "model3.fit(X_train, y_train, batch_size=4, epochs=10, verbose=1, validation_data=(X_val, y_val))\n",
    "\n",
    "score3 = model3.evaluate(X_val, y_val, verbose=1)\n",
    "print('\\nVal loss:', score3[0])\n",
    "print('Val accuracy:', score3[1])"
   ]
  },
  {
   "cell_type": "code",
   "execution_count": null,
   "metadata": {},
   "outputs": [],
   "source": []
  }
 ],
 "metadata": {
  "kernelspec": {
   "display_name": "Python 3",
   "language": "python",
   "name": "python3"
  },
  "language_info": {
   "codemirror_mode": {
    "name": "ipython",
    "version": 3
   },
   "file_extension": ".py",
   "mimetype": "text/x-python",
   "name": "python",
   "nbconvert_exporter": "python",
   "pygments_lexer": "ipython3",
   "version": "3.8.5"
  }
 },
 "nbformat": 4,
 "nbformat_minor": 4
}
